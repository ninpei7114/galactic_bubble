{
 "cells": [
  {
   "cell_type": "code",
   "execution_count": 32,
   "id": "quiet-radar",
   "metadata": {},
   "outputs": [],
   "source": [
    "import torch.nn as nn\n",
    "import torch.nn.init as init\n",
    "import torch.nn.functional as F\n",
    "from torch.autograd import Function\n",
    "import torch.utils.data as data\n",
    "import torch\n",
    "import cv2\n",
    "import numpy as np\n",
    "import matplotlib.pyplot as plt\n",
    "import os.path as osp\n",
    "from itertools import product as product\n",
    "from math import sqrt as sqrt"
   ]
  },
  {
   "cell_type": "code",
   "execution_count": 2,
   "id": "bound-tiffany",
   "metadata": {},
   "outputs": [],
   "source": [
    "def make_vgg():\n",
    "    layers = []\n",
    "    in_channels = 2  # 色チャネル数\n",
    "    #なぜか自分で実装している\n",
    "    # vggモジュールで使用する畳み込み層やマックスプーリングのチャネル数\n",
    "#     cfg = [64, 64, 'M', 128, 128, 'M', 256, 256,\n",
    "#            256, 'MC', 512, 512, 512, 'M', 512, 512, 512]\n",
    "\n",
    "#     for v in cfg:\n",
    "#         if v == 'M':\n",
    "#             layers += [nn.MaxPool2d(kernel_size=2, stride=2)]\n",
    "#         elif v == 'MC':\n",
    "#             # ceilは出力サイズを、計算結果（float）に対して、切り上げで整数にするモード\n",
    "#             # デフォルトでは出力サイズを計算結果（float）に対して、切り下げで整数にするfloorモード\n",
    "#             layers += [nn.MaxPool2d(kernel_size=2, stride=2, ceil_mode=True)]\n",
    "#         else:\n",
    "#             conv2d = nn.Conv2d(in_channels, v, kernel_size=3, padding=1)\n",
    "#             layers += [conv2d, nn.ReLU(inplace=True)]\n",
    "#             in_channels = v\n",
    "\n",
    "#     pool5 = nn.MaxPool2d(kernel_size=3, stride=1, padding=1)\n",
    "#     conv6 = nn.Conv2d(512, 1024, kernel_size=3, padding=6, dilation=6)\n",
    "#     conv7 = nn.Conv2d(1024, 1024, kernel_size=1)\n",
    "    Conv2_1 = nn.Conv2d(2, 64, kernel_size=(3, 3), stride=(1, 1), padding=(1, 1))\n",
    "    Conv2_2 = nn.Conv2d(64, 64, kernel_size=(3, 3), stride=(1, 1), padding=(1, 1))\n",
    "    Maxpool_1 = nn.MaxPool2d(kernel_size=2, stride=2, padding=0, dilation=1, ceil_mode=False)\n",
    "    Conv2_3 = nn.Conv2d(64, 128, kernel_size=(3, 3), stride=(1, 1), padding=(1, 1))\n",
    "    Conv2_4 = nn.Conv2d(128, 128, kernel_size=(3, 3), stride=(1, 1), padding=(1, 1))\n",
    "    Maxpool_2 = nn.MaxPool2d(kernel_size=2, stride=2, padding=0, dilation=1, ceil_mode=False)\n",
    "    Conv2_5 = nn.Conv2d(128, 256, kernel_size=(3, 3), stride=(1, 1), padding=(1, 1))\n",
    "    Conv2_6 = nn.Conv2d(256, 256, kernel_size=(3, 3), stride=(1, 1), padding=(1, 1))\n",
    "    Conv2_7 = nn.Conv2d(256, 256, kernel_size=(3, 3), stride=(1, 1), padding=(1, 1))\n",
    "    Maxpool_3 = nn.MaxPool2d(kernel_size=2, stride=2, padding=0, dilation=1, ceil_mode=True)\n",
    "    Conv2_8 = nn.Conv2d(256, 512, kernel_size=(3, 3), stride=(1, 1), padding=(1, 1))\n",
    "    Conv2_9 = nn.Conv2d(512, 512, kernel_size=(3, 3), stride=(1, 1), padding=(1, 1))\n",
    "    Conv2_10 = nn.Conv2d(512, 512, kernel_size=(3, 3), stride=(1, 1), padding=(1, 1))\n",
    "    Maxpool_4 = nn.MaxPool2d(kernel_size=2, stride=2, padding=0, dilation=1, ceil_mode=False)\n",
    "    Conv2_11 = nn.Conv2d(512, 512, kernel_size=(3, 3), stride=(1, 1), padding=(1, 1))\n",
    "    Conv2_12 = nn.Conv2d(512, 512, kernel_size=(3, 3), stride=(1, 1), padding=(1, 1))\n",
    "    Conv2_13 = nn.Conv2d(512, 512, kernel_size=(3, 3), stride=(1, 1), padding=(1, 1))\n",
    "    Maxpool_5 = nn.MaxPool2d(kernel_size=3, stride=1, padding=1, dilation=1, ceil_mode=False)\n",
    "    Conv2_14 = nn.Conv2d(512, 1024, kernel_size=(3, 3), stride=(1, 1), padding=(6, 6), dilation=(6, 6))\n",
    "    Conv2_15 = nn.Conv2d(1024, 1024, kernel_size=(1, 1), stride=(1, 1))\n",
    "    \n",
    "    \n",
    "    layers += [Conv2_1, nn.ReLU(inplace=True), Conv2_2, nn.ReLU(inplace=True), Maxpool_1, Conv2_3, nn.ReLU(inplace=True), Conv2_4, nn.ReLU(inplace=True), Maxpool_2, Conv2_5, nn.ReLU(inplace=True), Conv2_6, nn.ReLU(inplace=True), Conv2_7, nn.ReLU(inplace=True), Maxpool_3, Conv2_8, nn.ReLU(inplace=True), Conv2_9, nn.ReLU(inplace=True), Conv2_10, nn.ReLU(inplace=True), Maxpool_4, Conv2_11, nn.ReLU(inplace=True), Conv2_12, nn.ReLU(inplace=True), Conv2_13, nn.ReLU(inplace=True), Maxpool_5, Conv2_14, nn.ReLU(inplace=True), Conv2_15, nn.ReLU(inplace=True)]\n",
    "    \n",
    "    return nn.ModuleList(layers)\n",
    "\n",
    "# 8層にわたる、extrasモジュールを作成\n",
    "def make_extras():\n",
    "    layers = []\n",
    "    in_channels = 1024  # vggモジュールから出力された、extraに入力される画像チャネル数\n",
    "\n",
    "    # extraモジュールの畳み込み層のチャネル数を設定するコンフィギュレーション\n",
    "    cfg = [256, 512, 128, 256, 128, 256, 128, 256]\n",
    "\n",
    "    layers += [nn.Conv2d(in_channels, cfg[0], kernel_size=(1))] # 0\n",
    "    layers += [nn.Conv2d(cfg[0], cfg[1], kernel_size=(3), stride=2, padding=1)]  # #1\n",
    "#     layers += [nn.MaxPool2d(kernel_size=2)]  #Maxpoolは自分で付け足した   #2\n",
    "    layers += [nn.Conv2d(cfg[1], cfg[2], kernel_size=(1))] #2\n",
    "    layers += [nn.Conv2d(cfg[2], cfg[3], kernel_size=(3), stride=2, padding=1)]  #  #3\n",
    "#     layers += [nn.MaxPool2d(kernel_size=2)]  #Maxpoolは自分で付け足した #5 \n",
    "    layers += [nn.Conv2d(cfg[3], cfg[4], kernel_size=(1))]  #4\n",
    "    layers += [nn.Conv2d(cfg[4], cfg[5], kernel_size=(3))]  #5\n",
    "    layers += [nn.Conv2d(cfg[5], cfg[6], kernel_size=(1))]  #6\n",
    "    layers += [nn.Conv2d(cfg[6], cfg[7], kernel_size=(3))]  #7\n",
    "\n",
    "    return nn.ModuleList(layers)\n"
   ]
  },
  {
   "cell_type": "code",
   "execution_count": 25,
   "id": "broken-centre",
   "metadata": {},
   "outputs": [
    {
     "name": "stdout",
     "output_type": "stream",
     "text": [
      "(3, 300, 300)\n"
     ]
    },
    {
     "data": {
      "text/plain": [
       "(2, 300, 300)"
      ]
     },
     "execution_count": 25,
     "metadata": {},
     "output_type": "execute_result"
    }
   ],
   "source": [
    "x = np.load('../data_for_ssd/Churchwell_data/center_ring_data/std/CN 100.npy')\n",
    "print(x.shape)\n",
    "x = x[:2, :, :]\n",
    "x.shape"
   ]
  },
  {
   "cell_type": "code",
   "execution_count": 26,
   "id": "parliamentary-mortgage",
   "metadata": {},
   "outputs": [
    {
     "data": {
      "text/plain": [
       "torch.Size([1, 2, 300, 300])"
      ]
     },
     "execution_count": 26,
     "metadata": {},
     "output_type": "execute_result"
    }
   ],
   "source": [
    "x = torch.tensor(x, dtype=torch.float)\n",
    "x = x.unsqueeze(0)\n",
    "x.shape"
   ]
  },
  {
   "cell_type": "code",
   "execution_count": 27,
   "id": "exact-school",
   "metadata": {},
   "outputs": [],
   "source": [
    "vgg = make_vgg()"
   ]
  },
  {
   "cell_type": "code",
   "execution_count": 28,
   "id": "southeast-pointer",
   "metadata": {},
   "outputs": [],
   "source": [
    "for k in range(23):\n",
    "    x = vgg[k](x)"
   ]
  },
  {
   "cell_type": "code",
   "execution_count": 29,
   "id": "liable-central",
   "metadata": {},
   "outputs": [
    {
     "data": {
      "text/plain": [
       "torch.Size([1, 512, 38, 38])"
      ]
     },
     "execution_count": 29,
     "metadata": {},
     "output_type": "execute_result"
    }
   ],
   "source": [
    "x.shape"
   ]
  },
  {
   "cell_type": "code",
   "execution_count": 38,
   "id": "insured-speed",
   "metadata": {},
   "outputs": [],
   "source": [
    "s = x\n",
    "s = s.squeeze(0)\n",
    "s = s.detach().numpy()\n",
    "s = np.sum(s, axis=0)"
   ]
  },
  {
   "cell_type": "code",
   "execution_count": 39,
   "id": "impressed-contact",
   "metadata": {},
   "outputs": [
    {
     "data": {
      "text/plain": [
       "<matplotlib.image.AxesImage at 0x7fc04f9e3970>"
      ]
     },
     "execution_count": 39,
     "metadata": {},
     "output_type": "execute_result"
    },
    {
     "data": {
      "image/png": "[encoded data removed]",
      "text/plain": [
       "<Figure size 432x288 with 1 Axes>"
      ]
     },
     "metadata": {
      "needs_background": "light"
     },
     "output_type": "display_data"
    }
   ],
   "source": [
    "plt.imshow(s)"
   ]
  },
  {
   "cell_type": "code",
   "execution_count": 40,
   "id": "senior-accused",
   "metadata": {},
   "outputs": [
    {
     "data": {
      "text/plain": [
       "array([[2.06752  , 2.119823 , 2.128601 , ..., 2.1292303, 2.1279614,\n",
       "        2.0700138],\n",
       "       [2.126636 , 2.190288 , 2.197123 , ..., 2.2048044, 2.2050636,\n",
       "        2.111743 ],\n",
       "       [2.1259477, 2.1849947, 2.1877012, ..., 2.1935172, 2.1937008,\n",
       "        2.1024234],\n",
       "       ...,\n",
       "       [2.1248832, 2.1891832, 2.191093 , ..., 2.1970181, 2.2002141,\n",
       "        2.1076505],\n",
       "       [2.1278806, 2.1820333, 2.1770382, ..., 2.1807635, 2.1816413,\n",
       "        2.097154 ],\n",
       "       [2.0972354, 2.1290324, 2.1357284, ..., 2.1421075, 2.1421733,\n",
       "        2.0885355]], dtype=float32)"
      ]
     },
     "execution_count": 40,
     "metadata": {},
     "output_type": "execute_result"
    }
   ],
   "source": [
    "s"
   ]
  },
  {
   "cell_type": "code",
   "execution_count": null,
   "id": "crude-accountability",
   "metadata": {},
   "outputs": [],
   "source": []
  },
  {
   "cell_type": "code",
   "execution_count": null,
   "id": "foreign-indonesia",
   "metadata": {},
   "outputs": [],
   "source": []
  },
  {
   "cell_type": "code",
   "execution_count": null,
   "id": "experienced-stake",
   "metadata": {},
   "outputs": [],
   "source": []
  }
 ],
 "metadata": {
  "kernelspec": {
   "display_name": "Python 3",
   "language": "python",
   "name": "python3"
  },
  "language_info": {
   "codemirror_mode": {
    "name": "ipython",
    "version": 3
   },
   "file_extension": ".py",
   "mimetype": "text/x-python",
   "name": "python",
   "nbconvert_exporter": "python",
   "pygments_lexer": "ipython3",
   "version": "3.8.5"
  }
 },
 "nbformat": 4,
 "nbformat_minor": 5
}
