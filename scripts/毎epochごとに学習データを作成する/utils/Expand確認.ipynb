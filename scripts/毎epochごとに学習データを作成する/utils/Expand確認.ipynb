{
 "cells": [
  {
   "cell_type": "code",
   "execution_count": 15,
   "id": "satisfied-albania",
   "metadata": {},
   "outputs": [],
   "source": [
    "from numpy import random\n",
    "import numpy as np\n",
    "import matplotlib.pyplot as plt"
   ]
  },
  {
   "cell_type": "code",
   "execution_count": 104,
   "id": "opening-canvas",
   "metadata": {},
   "outputs": [],
   "source": [
    "class Expand(object):\n",
    "    def __init__(self, mean):\n",
    "        self.mean = mean\n",
    "\n",
    "    def __call__(self, image, boxes, labels):\n",
    "#         if random.randint(2):\n",
    "#             return image, boxes, labels\n",
    "\n",
    "        height, width, depth = image.shape\n",
    "        n = random.uniform(0.25, 1)\n",
    "        ratio = 1/n\n",
    "        print(ratio)\n",
    "        left = random.uniform(0, width*ratio - width)\n",
    "        top = random.uniform(0, height*ratio - height)\n",
    "\n",
    "        expand_image = np.zeros(\n",
    "            (int(height*ratio), int(width*ratio), depth),\n",
    "            dtype=image.dtype)\n",
    "        expand_image[:, :, :] = self.mean\n",
    "        expand_image[int(top):int(top + height),\n",
    "                     int(left):int(left + width)] = image\n",
    "        image = expand_image\n",
    "\n",
    "        boxes = boxes.copy()\n",
    "        boxes[:, :2] += (int(left), int(top))\n",
    "        boxes[:, 2:] += (int(left), int(top))\n",
    "#         print('Expand_boxes : ', boxes)\n",
    "        return image, ratio#, boxes, labels"
   ]
  },
  {
   "cell_type": "code",
   "execution_count": null,
   "id": "departmental-indian",
   "metadata": {},
   "outputs": [],
   "source": [
    "ex = Expand(0)"
   ]
  },
  {
   "cell_type": "code",
   "execution_count": 109,
   "id": "final-motion",
   "metadata": {},
   "outputs": [],
   "source": [
    "b= [1/random.uniform(0.25, 1) for i in range(1000)]"
   ]
  },
  {
   "cell_type": "code",
   "execution_count": 110,
   "id": "exposed-ensemble",
   "metadata": {},
   "outputs": [
    {
     "data": {
      "text/plain": [
       "(array([303., 198., 141.,  96.,  58.,  49.,  46.,  44.,  37.,  28.]),\n",
       " array([1.00007064, 1.2984022 , 1.59673377, 1.89506533, 2.1933969 ,\n",
       "        2.49172846, 2.79006003, 3.0883916 , 3.38672316, 3.68505473,\n",
       "        3.98338629]),\n",
       " <BarContainer object of 10 artists>)"
      ]
     },
     "execution_count": 110,
     "metadata": {},
     "output_type": "execute_result"
    },
    {
     "data": {
      "image/png": "[encoded data removed]",
      "text/plain": [
       "<Figure size 432x288 with 1 Axes>"
      ]
     },
     "metadata": {
      "needs_background": "light"
     },
     "output_type": "display_data"
    }
   ],
   "source": [
    "plt.hist(b)"
   ]
  },
  {
   "cell_type": "code",
   "execution_count": 91,
   "id": "flush-aquarium",
   "metadata": {},
   "outputs": [],
   "source": [
    "ex = Expand(0)"
   ]
  },
  {
   "cell_type": "code",
   "execution_count": 92,
   "id": "sticky-broadway",
   "metadata": {},
   "outputs": [],
   "source": [
    "boxes = np.array([[100, 100, 150, 150]])"
   ]
  },
  {
   "cell_type": "code",
   "execution_count": 93,
   "id": "welsh-middle",
   "metadata": {},
   "outputs": [],
   "source": [
    "image = np.ones([300 ,300, 2])"
   ]
  },
  {
   "cell_type": "code",
   "execution_count": 102,
   "id": "unknown-moscow",
   "metadata": {},
   "outputs": [
    {
     "name": "stdout",
     "output_type": "stream",
     "text": [
      "1.9373119323050405\n"
     ]
    },
    {
     "data": {
      "text/plain": [
       "<matplotlib.image.AxesImage at 0x7fc4389f32e0>"
      ]
     },
     "execution_count": 102,
     "metadata": {},
     "output_type": "execute_result"
    },
    {
     "data": {
      "image/png": "[encoded data removed]",
      "text/plain": [
       "<Figure size 432x288 with 1 Axes>"
      ]
     },
     "metadata": {
      "needs_background": "light"
     },
     "output_type": "display_data"
    }
   ],
   "source": [
    "ex_image = ex(image, boxes, 1)\n",
    "plt.imshow(ex_image[:,:,0])"
   ]
  },
  {
   "cell_type": "code",
   "execution_count": null,
   "id": "reserved-beast",
   "metadata": {},
   "outputs": [],
   "source": []
  },
  {
   "cell_type": "code",
   "execution_count": null,
   "id": "future-colorado",
   "metadata": {},
   "outputs": [],
   "source": []
  },
  {
   "cell_type": "code",
   "execution_count": null,
   "id": "correct-atlanta",
   "metadata": {},
   "outputs": [],
   "source": []
  },
  {
   "cell_type": "code",
   "execution_count": null,
   "id": "emotional-australia",
   "metadata": {},
   "outputs": [],
   "source": []
  },
  {
   "cell_type": "code",
   "execution_count": null,
   "id": "copyrighted-colleague",
   "metadata": {},
   "outputs": [],
   "source": []
  },
  {
   "cell_type": "code",
   "execution_count": null,
   "id": "psychological-guard",
   "metadata": {},
   "outputs": [],
   "source": []
  },
  {
   "cell_type": "code",
   "execution_count": null,
   "id": "combined-utility",
   "metadata": {},
   "outputs": [],
   "source": []
  },
  {
   "cell_type": "code",
   "execution_count": null,
   "id": "liable-pressing",
   "metadata": {},
   "outputs": [],
   "source": []
  },
  {
   "cell_type": "code",
   "execution_count": null,
   "id": "limited-shoulder",
   "metadata": {},
   "outputs": [],
   "source": []
  },
  {
   "cell_type": "code",
   "execution_count": null,
   "id": "wrapped-training",
   "metadata": {},
   "outputs": [],
   "source": []
  },
  {
   "cell_type": "code",
   "execution_count": null,
   "id": "built-modern",
   "metadata": {},
   "outputs": [],
   "source": []
  }
 ],
 "metadata": {
  "kernelspec": {
   "display_name": "Python 3",
   "language": "python",
   "name": "python3"
  },
  "language_info": {
   "codemirror_mode": {
    "name": "ipython",
    "version": 3
   },
   "file_extension": ".py",
   "mimetype": "text/x-python",
   "name": "python",
   "nbconvert_exporter": "python",
   "pygments_lexer": "ipython3",
   "version": "3.8.5"
  }
 },
 "nbformat": 4,
 "nbformat_minor": 5
}
