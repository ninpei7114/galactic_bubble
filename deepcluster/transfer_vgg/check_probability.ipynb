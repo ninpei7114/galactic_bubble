{
 "cells": [
  {
   "cell_type": "code",
   "execution_count": 1,
   "id": "flush-martial",
   "metadata": {},
   "outputs": [],
   "source": [
    "import numpy as np\n",
    "import matplotlib.pyplot as plt\n",
    "import matplotlib.patches as patches\n",
    "import cv2\n",
    "import scipy\n",
    "import scipy.ndimage\n",
    "import pandas as pd\n",
    "import math\n",
    "import copy\n",
    "\n",
    "import torch\n",
    "from torch.nn import functional as F\n",
    "\n",
    "from PIL import Image\n",
    "import astropy\n",
    "import aplpy\n",
    "# from regions import DS9Parser"
   ]
  },
  {
   "cell_type": "code",
   "execution_count": 2,
   "id": "equal-baseball",
   "metadata": {},
   "outputs": [
    {
     "name": "stdout",
     "output_type": "stream",
     "text": [
      "(40289, 2) (40289, 2, 200, 5)\n"
     ]
    }
   ],
   "source": [
    "detections_150 = np.load('result/result_ring_select_csize150.npy')\n",
    "position_150 = np.load('result/position_ring_select_csize150.npy')\n",
    "print(position_150.shape, detections_150.shape)"
   ]
  },
  {
   "cell_type": "code",
   "execution_count": 3,
   "id": "described-subscriber",
   "metadata": {},
   "outputs": [
    {
     "name": "stdout",
     "output_type": "stream",
     "text": [
      "(9603, 2) (9603, 2, 200, 5)\n"
     ]
    }
   ],
   "source": [
    "detections_300 = np.load('result/result_ring_select_csize300.npy')\n",
    "position_300 = np.load('result/position_ring_select_csize300.npy')\n",
    "print(position_300.shape, detections_300.shape)"
   ]
  },
  {
   "cell_type": "code",
   "execution_count": 4,
   "id": "dressed-reservation",
   "metadata": {},
   "outputs": [
    {
     "name": "stdout",
     "output_type": "stream",
     "text": [
      "(2049, 2) (2049, 2, 200, 5)\n"
     ]
    }
   ],
   "source": [
    "detections_600 = np.load('result/result_ring_select_csize600.npy')\n",
    "position_600 = np.load('result/position_ring_select_csize600.npy')\n",
    "print(position_600.shape, detections_600.shape)"
   ]
  },
  {
   "cell_type": "code",
   "execution_count": 5,
   "id": "important-sequence",
   "metadata": {},
   "outputs": [
    {
     "name": "stdout",
     "output_type": "stream",
     "text": [
      "(769, 2) (769, 2, 200, 5)\n"
     ]
    }
   ],
   "source": [
    "detections_900 = np.load('result/result_ring_select_csize900.npy')\n",
    "position_900 = np.load('result/position_ring_select_csize900.npy')\n",
    "print(position_900.shape, detections_900.shape)"
   ]
  },
  {
   "cell_type": "code",
   "execution_count": 6,
   "id": "prescription-thickness",
   "metadata": {},
   "outputs": [
    {
     "name": "stdout",
     "output_type": "stream",
     "text": [
      "(363, 2) (363, 2, 200, 5)\n"
     ]
    }
   ],
   "source": [
    "detections_1200 = np.load('result/result_ring_select_csize1200.npy')\n",
    "position_1200 = np.load('result/position_ring_select_csize1200.npy')\n",
    "print(position_1200.shape, detections_1200.shape)"
   ]
  },
  {
   "cell_type": "code",
   "execution_count": 7,
   "id": "adequate-information",
   "metadata": {},
   "outputs": [
    {
     "name": "stdout",
     "output_type": "stream",
     "text": [
      "(104, 2) (104, 2, 200, 5)\n"
     ]
    }
   ],
   "source": [
    "detections_1800 = np.load('result/result_ring_select_csize1800.npy')\n",
    "position_1800 = np.load('result/position_ring_select_csize1800.npy')\n",
    "print(position_1800.shape, detections_1800.shape)"
   ]
  },
  {
   "cell_type": "code",
   "execution_count": 8,
   "id": "funny-standing",
   "metadata": {},
   "outputs": [
    {
     "name": "stdout",
     "output_type": "stream",
     "text": [
      "(71, 2) (71, 2, 200, 5)\n"
     ]
    }
   ],
   "source": [
    "detections_2000 = np.load('result/result_ring_select_csize2000.npy')\n",
    "position_2000 = np.load('result/position_ring_select_csize2000.npy')\n",
    "print(position_2000.shape, detections_2000.shape)"
   ]
  },
  {
   "cell_type": "code",
   "execution_count": 9,
   "id": "embedded-disorder",
   "metadata": {},
   "outputs": [
    {
     "name": "stdout",
     "output_type": "stream",
     "text": [
      "(34, 2) (34, 2, 200, 5)\n"
     ]
    }
   ],
   "source": [
    "detections_2500 = np.load('result/result_ring_select_csize2500.npy')\n",
    "position_2500 = np.load('result/position_ring_select_csize2500.npy')\n",
    "print(position_2500.shape, detections_2500.shape)"
   ]
  },
  {
   "cell_type": "code",
   "execution_count": 10,
   "id": "sonic-posting",
   "metadata": {},
   "outputs": [
    {
     "name": "stdout",
     "output_type": "stream",
     "text": [
      "(12, 2) (12, 2, 200, 5)\n"
     ]
    }
   ],
   "source": [
    "detections_3000 = np.load('result/result_ring_select_csize3000.npy')\n",
    "position_3000 = np.load('result/position_ring_select_csize3000.npy')\n",
    "print(position_3000.shape, detections_3000.shape)"
   ]
  },
  {
   "cell_type": "code",
   "execution_count": 11,
   "id": "involved-howard",
   "metadata": {},
   "outputs": [],
   "source": [
    "detection_list = [detections_150, detections_300, detections_600, detections_900, detections_1200, \n",
    "                  detections_1800, detections_2000, detections_2500, detections_3000]#, detections_5000]\n",
    "position_list = [position_150, position_300, position_600, position_900, position_1200, \n",
    "                  position_1800, position_2000, position_2500, position_3000]#, position_5000]"
   ]
  },
  {
   "cell_type": "code",
   "execution_count": 12,
   "id": "public-announcement",
   "metadata": {},
   "outputs": [],
   "source": [
    "size_list = [150, 300, 600, 900, 1200, 1800, 2000, 2500, 3000]"
   ]
  },
  {
   "cell_type": "code",
   "execution_count": 13,
   "id": "aware-sheet",
   "metadata": {},
   "outputs": [
    {
     "data": {
      "text/plain": [
       "(0.99996436, 0.0)"
      ]
     },
     "execution_count": 13,
     "metadata": {},
     "output_type": "execute_result"
    }
   ],
   "source": [
    "max_list = []\n",
    "min_list = []\n",
    "for pos,si in zip(detection_list, size_list):\n",
    "    max_list.append(pos[:,1,:,0].max())\n",
    "    min_list.append(pos[:,1,:,0].min())\n",
    "    \n",
    "max(max_list),min(min_list)"
   ]
  },
  {
   "cell_type": "code",
   "execution_count": 15,
   "id": "adjustable-craps",
   "metadata": {},
   "outputs": [],
   "source": [
    "bins=np.linspace(min(min_list), max(max_list), 50)"
   ]
  },
  {
   "cell_type": "code",
   "execution_count": 16,
   "id": "listed-phenomenon",
   "metadata": {},
   "outputs": [
    {
     "data": {
      "text/plain": [
       "<matplotlib.legend.Legend at 0x7ff25649b670>"
      ]
     },
     "execution_count": 16,
     "metadata": {},
     "output_type": "execute_result"
    },
    {
     "data": {
      "image/png": "[encoded data removed]",
      "text/plain": [
       "<Figure size 432x288 with 1 Axes>"
      ]
     },
     "metadata": {
      "needs_background": "light"
     },
     "output_type": "display_data"
    }
   ],
   "source": [
    "fig = plt.figure()\n",
    "ax = fig.add_subplot(111)\n",
    "\n",
    "for pos,si in zip(detection_list, size_list):\n",
    "    ax.hist(np.ravel(pos[:,1,:,0]), label=('%s'%si), alpha=0.5, bins=bins)\n",
    "    \n",
    "ax.set_yscale('log') \n",
    "ax.set_xticks([0, 0.1, 0.2, 0.3, 0.4, 0.5, 0.6, 0.7, 0.8, 0.9, 1])\n",
    "plt.legend()"
   ]
  },
  {
   "cell_type": "code",
   "execution_count": null,
   "id": "anonymous-heath",
   "metadata": {},
   "outputs": [],
   "source": []
  },
  {
   "cell_type": "code",
   "execution_count": null,
   "id": "tropical-aaron",
   "metadata": {},
   "outputs": [],
   "source": []
  },
  {
   "cell_type": "code",
   "execution_count": null,
   "id": "suburban-spokesman",
   "metadata": {},
   "outputs": [],
   "source": []
  },
  {
   "cell_type": "code",
   "execution_count": null,
   "id": "matched-crazy",
   "metadata": {},
   "outputs": [],
   "source": []
  },
  {
   "cell_type": "code",
   "execution_count": null,
   "id": "incoming-demonstration",
   "metadata": {},
   "outputs": [],
   "source": []
  }
 ],
 "metadata": {
  "kernelspec": {
   "display_name": "Python 3",
   "language": "python",
   "name": "python3"
  },
  "language_info": {
   "codemirror_mode": {
    "name": "ipython",
    "version": 3
   },
   "file_extension": ".py",
   "mimetype": "text/x-python",
   "name": "python",
   "nbconvert_exporter": "python",
   "pygments_lexer": "ipython3",
   "version": "3.8.5"
  }
 },
 "nbformat": 4,
 "nbformat_minor": 5
}
