{
 "cells": [
  {
   "cell_type": "code",
   "execution_count": 1,
   "id": "impressive-bacon",
   "metadata": {},
   "outputs": [],
   "source": [
    "import pandas as pd\n",
    "from math import sqrt as sqrt\n",
    "from itertools import product as product\n",
    "\n",
    "import torch\n",
    "import torch.nn as nn\n",
    "import torch.nn.init as init\n",
    "import torch.nn.functional as F\n",
    "from torch.autograd import Function\n",
    "from torchsummary import summary\n",
    "import torch.utils.data as data\n",
    "import torch.optim as optim\n",
    "\n",
    "import ast\n",
    "import cv2\n",
    "import numpy as np\n",
    "import time\n",
    "import random\n",
    "import matplotlib.pyplot as plt\n",
    "from sklearn.model_selection import KFold"
   ]
  },
  {
   "cell_type": "code",
   "execution_count": 2,
   "id": "golden-samba",
   "metadata": {},
   "outputs": [],
   "source": [
    "# import sys\n",
    "# sys.path.append('../')\n",
    "from utils.ssd_model import SSD\n",
    "from utils.ssd_model import MultiBoxLoss\n",
    "from utils.ssd_model import decode"
   ]
  },
  {
   "cell_type": "code",
   "execution_count": 3,
   "id": "sought-canada",
   "metadata": {},
   "outputs": [],
   "source": [
    "# class EarlyStopping:\n",
    "#     \"\"\"Early stops the training if validation loss doesn't improve after a given patience.\"\"\"\n",
    "#     def __init__(self, path, patience=7, verbose=False, delta=0, trace_func=print):\n",
    "#         \"\"\"\n",
    "#         Args:\n",
    "#             patience (int): How long to wait after last time validation loss improved.\n",
    "#                             Default: 7\n",
    "#             verbose (bool): If True, prints a message for each validation loss improvement. \n",
    "#                             Default: False\n",
    "#             delta (float): Minimum change in the monitored quantity to qualify as an improvement.\n",
    "#                             Default: 0\n",
    "#             path (str): Path for the checkpoint to be saved to.\n",
    "#                             Default: 'checkpoint.pt'\n",
    "#             trace_func (function): trace print function.\n",
    "#                             Default: print            \n",
    "#         \"\"\"\n",
    "#         self.patience = patience\n",
    "#         self.verbose = verbose\n",
    "#         self.counter = 0\n",
    "#         self.best_score = None\n",
    "#         self.early_stop = False\n",
    "#         self.f1_score_max = -np.Inf\n",
    "#         self.delta = delta\n",
    "#         self.path = path\n",
    "#         self.trace_func = trace_func\n",
    "#     def __call__(self, f1_score, model):\n",
    "\n",
    "#         score = f1_score\n",
    "\n",
    "#         if self.best_score is None:\n",
    "#             self.best_score = score\n",
    "#             self.save_checkpoint(f1_score, model)\n",
    "#         elif score < self.best_score + self.delta:\n",
    "#             self.counter += 1\n",
    "#             self.trace_func(f'EarlyStopping counter: {self.counter} out of {self.patience}')\n",
    "#             if self.counter >= self.patience:\n",
    "#                 self.early_stop = True\n",
    "#         else:\n",
    "#             self.best_score = score\n",
    "#             self.save_checkpoint(f1_score, model)\n",
    "#             self.counter = 0\n",
    "\n",
    "#     def save_checkpoint(self, f1_score, model):\n",
    "#         '''Saves model when f1_score increase.'''\n",
    "#         if self.verbose:\n",
    "#             self.trace_func(f'f1_score increase ({self.f1_score_max:.6f} --> {f1_score:.6f}).  Saving model ...')\n",
    "#         torch.save(model.state_dict(), self.path)\n",
    "#         self.f1_score_max = f1_score"
   ]
  },
  {
   "cell_type": "code",
   "execution_count": 4,
   "id": "massive-telescope",
   "metadata": {},
   "outputs": [],
   "source": [
    "class EarlyStopping:\n",
    "    \"\"\"Early stops the training if validation loss doesn't improve after a given patience.\"\"\"\n",
    "    def __init__(self, path, patience=7, verbose=False, delta=0, trace_func=print):\n",
    "        \"\"\"\n",
    "        Args:\n",
    "            patience (int): How long to wait after last time validation loss improved.\n",
    "                            Default: 7\n",
    "            verbose (bool): If True, prints a message for each validation loss improvement. \n",
    "                            Default: False\n",
    "            delta (float): Minimum change in the monitored quantity to qualify as an improvement.\n",
    "                            Default: 0\n",
    "            path (str): Path for the checkpoint to be saved to.\n",
    "                            Default: 'checkpoint.pt'\n",
    "            trace_func (function): trace print function.\n",
    "                            Default: print            \n",
    "        \"\"\"\n",
    "        self.patience = patience\n",
    "        self.verbose = verbose\n",
    "        self.counter = 0\n",
    "        self.best_score = None\n",
    "        self.early_stop = False\n",
    "        self.val_loss_min = np.Inf\n",
    "        self.delta = delta\n",
    "        self.path = path\n",
    "        self.trace_func = trace_func\n",
    "    def __call__(self, val_loss, model):\n",
    "\n",
    "        score = -val_loss\n",
    "\n",
    "        if self.best_score is None:\n",
    "            self.best_score = score\n",
    "            self.save_checkpoint(val_loss, model)\n",
    "        elif score < self.best_score + self.delta:\n",
    "            self.counter += 1\n",
    "            self.trace_func(f'EarlyStopping counter: {self.counter} out of {self.patience}')\n",
    "            if self.counter >= self.patience:\n",
    "                self.early_stop = True\n",
    "        else:\n",
    "            self.best_score = score\n",
    "            self.save_checkpoint(val_loss, model)\n",
    "            self.counter = 0\n",
    "\n",
    "    def save_checkpoint(self, val_loss, model):\n",
    "        '''Saves model when validation loss decrease.'''\n",
    "        if self.verbose:\n",
    "            self.trace_func(f'Validation loss decreased ({self.val_loss_min:.6f} --> {val_loss:.6f}).  Saving model ...')\n",
    "        torch.save(model.state_dict(), self.path)\n",
    "        self.val_loss_min = val_loss"
   ]
  },
  {
   "cell_type": "code",
   "execution_count": 5,
   "id": "exterior-composition",
   "metadata": {},
   "outputs": [],
   "source": [
    "input_size = 300\n",
    "color_mean = (0, 0)\n",
    "voc_classes = ['ring']"
   ]
  },
  {
   "cell_type": "code",
   "execution_count": 6,
   "id": "documentary-wedding",
   "metadata": {},
   "outputs": [],
   "source": [
    "ssd_cfg = {\n",
    "    'num_classes': 2,  # 背景クラスを含めた合計クラス数\n",
    "    'input_size': input_size,  # 画像の入力サイズ\n",
    "    'bbox_aspect_num': [4, 4, 4, 4, 4, 4],  # 出力するDBoxのアスペクト比の種類\n",
    "#     'bbox_aspect_num': [4, 4, 4, 4, 4, 4],\n",
    "    'feature_maps': [38, 19, 10, 5, 3, 1],  # 各sourceの画像サイズ   \n",
    "#     'feature_maps': [38, 19, 10, 5, 3, 1],  # 各sourceの画像サイズ\n",
    "    'steps': [8, 16, 32, 64, 100, 300],  # DBOXの大きさを決める\n",
    "    'min_sizes': [30, 60, 111, 162, 213, 264],  # DBOXの大きさを決める\n",
    "    'max_sizes': [60, 111, 162, 213, 264, 315],  # DBOXの大きさを決める\n",
    "    'aspect_ratios': [[2], [2], [2], [2], [2], [2]],\n",
    "}"
   ]
  },
  {
   "cell_type": "code",
   "execution_count": 7,
   "id": "expressed-frequency",
   "metadata": {},
   "outputs": [],
   "source": [
    "train_label = pd.read_csv('../data_for_ssd/MWP_data/ring_selection_for_ssd/new_sentei_data_10_11/train_val_data/train_label.csv')\n",
    "train_data = np.load('../data_for_ssd/MWP_data/ring_selection_for_ssd/new_sentei_data_10_11/train_val_data/train.npy')\n",
    "val_label = pd.read_csv('../data_for_ssd/MWP_data/ring_selection_for_ssd/new_sentei_data_10_11/train_val_data/val_label.csv')\n",
    "val_data = np.load('../data_for_ssd/MWP_data/ring_selection_for_ssd/new_sentei_data_10_11/train_val_data/val.npy')\n",
    "\n",
    "train_data = train_data[:,:,:,:2]\n",
    "train_data = np.swapaxes(train_data, 2, 3)\n",
    "train_data = np.swapaxes(train_data, 1, 2)\n",
    "\n",
    "val_data = val_data[:,:,:,:2]\n",
    "val_data = np.swapaxes(val_data, 2, 3)\n",
    "val_data = np.swapaxes(val_data, 1, 2)"
   ]
  },
  {
   "cell_type": "code",
   "execution_count": 8,
   "id": "beginning-peace",
   "metadata": {},
   "outputs": [
    {
     "name": "stdout",
     "output_type": "stream",
     "text": [
      "18729 (18729, 2, 300, 300)\n",
      "702 (702, 2, 300, 300)\n"
     ]
    }
   ],
   "source": [
    "print(len(train_label),train_data.shape)\n",
    "print(len(val_label),val_data.shape)"
   ]
  },
  {
   "cell_type": "code",
   "execution_count": 9,
   "id": "fitted-ceramic",
   "metadata": {},
   "outputs": [],
   "source": [
    "train_label = train_label.drop('Unnamed: 0', axis=1)\n",
    "val_label = val_label.drop('Unnamed: 0', axis=1)\n",
    "# label = label.drop('index', axis=1)"
   ]
  },
  {
   "cell_type": "code",
   "execution_count": 10,
   "id": "hourly-merchant",
   "metadata": {},
   "outputs": [],
   "source": [
    "train_label['xmin'] = [ast.literal_eval(d) for d in train_label['xmin']]\n",
    "train_label['xmax'] = [ast.literal_eval(d) for d in train_label['xmax']]\n",
    "train_label['ymin'] = [ast.literal_eval(d) for d in train_label['ymin']]\n",
    "train_label['ymax'] = [ast.literal_eval(d) for d in train_label['ymax']]\n",
    "\n",
    "val_label['xmin'] = [ast.literal_eval(d) for d in val_label['xmin']]\n",
    "val_label['xmax'] = [ast.literal_eval(d) for d in val_label['xmax']]\n",
    "val_label['ymin'] = [ast.literal_eval(d) for d in val_label['ymin']]\n",
    "val_label['ymax'] = [ast.literal_eval(d) for d in val_label['ymax']]"
   ]
  },
  {
   "cell_type": "code",
   "execution_count": 11,
   "id": "brave-impact",
   "metadata": {},
   "outputs": [],
   "source": [
    "train_label = train_label.reset_index()\n",
    "val_label = val_label.reset_index()"
   ]
  },
  {
   "cell_type": "code",
   "execution_count": 12,
   "id": "stable-native",
   "metadata": {},
   "outputs": [],
   "source": [
    "train_label_list = []\n",
    "for i in range(len(train_label)):\n",
    "    lab = []\n",
    "    for k in range(len(train_label['xmin'][i])):\n",
    "        labe = []\n",
    "        labe.append(train_label['xmin'][i][k])\n",
    "        labe.append(train_label['ymin'][i][k])\n",
    "        labe.append(train_label['xmax'][i][k])\n",
    "        labe.append(train_label['ymax'][i][k])\n",
    "        labe.append(0)\n",
    "        lab.append(labe)\n",
    "    train_label_list.append(np.array(lab))\n",
    "\n",
    "val_label_list = []\n",
    "for i in range(len(val_label)):\n",
    "    lab = []\n",
    "    for k in range(len(val_label['xmin'][i])):\n",
    "        labe = []\n",
    "        labe.append(val_label['xmin'][i][k])\n",
    "        labe.append(val_label['ymin'][i][k])\n",
    "        labe.append(val_label['xmax'][i][k])\n",
    "        labe.append(val_label['ymax'][i][k])\n",
    "        labe.append(0)\n",
    "        lab.append(labe)\n",
    "    val_label_list.append(np.array(lab))"
   ]
  },
  {
   "cell_type": "code",
   "execution_count": 13,
   "id": "multiple-clock",
   "metadata": {},
   "outputs": [
    {
     "data": {
      "text/plain": [
       "((1, 5), (0,))"
      ]
     },
     "execution_count": 13,
     "metadata": {},
     "output_type": "execute_result"
    }
   ],
   "source": [
    "val_label_list[1].shape, val_label_list[-1].shape"
   ]
  },
  {
   "cell_type": "code",
   "execution_count": 14,
   "id": "wooden-tunnel",
   "metadata": {},
   "outputs": [
    {
     "name": "stdout",
     "output_type": "stream",
     "text": [
      "18729 702\n"
     ]
    }
   ],
   "source": [
    "print(len(train_label_list), len(val_label_list))"
   ]
  },
  {
   "cell_type": "code",
   "execution_count": 15,
   "id": "international-stevens",
   "metadata": {},
   "outputs": [
    {
     "data": {
      "text/plain": [
       "((18729, 2, 300, 300), (702, 2, 300, 300))"
      ]
     },
     "execution_count": 15,
     "metadata": {},
     "output_type": "execute_result"
    }
   ],
   "source": [
    "train_data.shape, val_data.shape"
   ]
  },
  {
   "cell_type": "code",
   "execution_count": 16,
   "id": "damaged-madison",
   "metadata": {},
   "outputs": [],
   "source": [
    "def od_collate_fn(batch):\n",
    "    targets = []\n",
    "    imgs = []\n",
    "    for sample in batch:\n",
    "        imgs.append(sample[0])\n",
    "        targets.append(torch.FloatTensor(sample[1]))\n",
    "    imgs = torch.stack(imgs, dim=0)\n",
    "        \n",
    "    return imgs, targets"
   ]
  },
  {
   "cell_type": "code",
   "execution_count": 17,
   "id": "amateur-commissioner",
   "metadata": {},
   "outputs": [],
   "source": [
    "# for d in train_data_list[0]:\n",
    "#     if sum(np.isnan(d.ravel())) == 0:\n",
    "#         pass\n",
    "#     else:\n",
    "#         print('neko')"
   ]
  },
  {
   "cell_type": "code",
   "execution_count": 18,
   "id": "consolidated-consultancy",
   "metadata": {},
   "outputs": [],
   "source": [
    "class DataSet():\n",
    "    def __init__(self, data, label):\n",
    "        self.label = label\n",
    "        self.data = data\n",
    "        \n",
    "    def __len__(self):\n",
    "        return len(self.data)\n",
    "    \n",
    "    def __getitem__(self, index):\n",
    "        return self.data[index], self.label[index]"
   ]
  },
  {
   "cell_type": "code",
   "execution_count": 19,
   "id": "surprising-stanford",
   "metadata": {},
   "outputs": [],
   "source": [
    "class NegativeSampler(torch.utils.data.sampler.Sampler):\n",
    "    def __init__(self, source, true_size, sample_negative_size):\n",
    "        self.true_size = true_size\n",
    "        self.negative_size = len(source) - true_size\n",
    "        self.sample_negative_size = sample_negative_size\n",
    "    def __iter__(self):\n",
    "        neg = np.arange(self.true_size, self.true_size + self.sample_negative_size)\n",
    "        indeces = np.concatenate((np.arange(self.true_size), np.random.choice(neg, self.sample_negative_size)))\n",
    "        np.random.shuffle(indeces)\n",
    "        for i in indeces:\n",
    "            yield i\n",
    "    def __len__(self):\n",
    "        return self.true_size + self.sample_negative_size"
   ]
  },
  {
   "cell_type": "code",
   "execution_count": 20,
   "id": "ongoing-panel",
   "metadata": {},
   "outputs": [],
   "source": [
    "train_sampler = NegativeSampler(train_data, true_size=12729, sample_negative_size=4270)\n",
    "val_sampler = NegativeSampler(val_data, true_size=252, sample_negative_size=317)\n",
    "batch_size = 17"
   ]
  },
  {
   "cell_type": "code",
   "execution_count": 21,
   "id": "clean-calcium",
   "metadata": {},
   "outputs": [],
   "source": [
    "train_dataset = DataSet(torch.Tensor(train_data), train_label_list)\n",
    "train_loader = torch.utils.data.DataLoader(train_dataset, batch_size=batch_size, sampler=train_sampler, collate_fn=od_collate_fn)\n",
    "\n",
    "test_dataset = DataSet(torch.Tensor(val_data), val_label_list)\n",
    "test_loader = torch.utils.data.DataLoader(test_dataset, batch_size=batch_size, sampler=val_sampler, collate_fn=od_collate_fn)"
   ]
  },
  {
   "cell_type": "code",
   "execution_count": 22,
   "id": "premium-fifteen",
   "metadata": {},
   "outputs": [],
   "source": [
    "dataloaders_dict = {\"train\": train_loader, \"val\": test_loader}"
   ]
  },
  {
   "cell_type": "code",
   "execution_count": 23,
   "id": "negative-chemical",
   "metadata": {},
   "outputs": [],
   "source": [
    "net = SSD(phase='train', cfg=ssd_cfg)\n",
    "# CNN_weight = torch.load('ssd300_mAP_77.43_v2.pth')"
   ]
  },
  {
   "cell_type": "code",
   "execution_count": 24,
   "id": "extensive-recruitment",
   "metadata": {},
   "outputs": [
    {
     "data": {
      "text/plain": [
       "SSD(\n",
       "  (feature_extractor): ResNet(\n",
       "    (feature_extractor): Sequential(\n",
       "      (0): Conv2d(2, 64, kernel_size=(7, 7), stride=(2, 2), padding=(3, 3), bias=False)\n",
       "      (1): BatchNorm2d(64, eps=1e-05, momentum=0.1, affine=True, track_running_stats=True)\n",
       "      (2): ReLU(inplace=True)\n",
       "      (3): MaxPool2d(kernel_size=3, stride=2, padding=1, dilation=1, ceil_mode=False)\n",
       "      (4): Sequential(\n",
       "        (0): BasicBlock(\n",
       "          (conv1): Conv2d(64, 64, kernel_size=(3, 3), stride=(1, 1), padding=(1, 1), bias=False)\n",
       "          (bn1): BatchNorm2d(64, eps=1e-05, momentum=0.1, affine=True, track_running_stats=True)\n",
       "          (relu): ReLU(inplace=True)\n",
       "          (conv2): Conv2d(64, 64, kernel_size=(3, 3), stride=(1, 1), padding=(1, 1), bias=False)\n",
       "          (bn2): BatchNorm2d(64, eps=1e-05, momentum=0.1, affine=True, track_running_stats=True)\n",
       "        )\n",
       "        (1): BasicBlock(\n",
       "          (conv1): Conv2d(64, 64, kernel_size=(3, 3), stride=(1, 1), padding=(1, 1), bias=False)\n",
       "          (bn1): BatchNorm2d(64, eps=1e-05, momentum=0.1, affine=True, track_running_stats=True)\n",
       "          (relu): ReLU(inplace=True)\n",
       "          (conv2): Conv2d(64, 64, kernel_size=(3, 3), stride=(1, 1), padding=(1, 1), bias=False)\n",
       "          (bn2): BatchNorm2d(64, eps=1e-05, momentum=0.1, affine=True, track_running_stats=True)\n",
       "        )\n",
       "      )\n",
       "      (5): Sequential(\n",
       "        (0): BasicBlock(\n",
       "          (conv1): Conv2d(64, 128, kernel_size=(3, 3), stride=(2, 2), padding=(1, 1), bias=False)\n",
       "          (bn1): BatchNorm2d(128, eps=1e-05, momentum=0.1, affine=True, track_running_stats=True)\n",
       "          (relu): ReLU(inplace=True)\n",
       "          (conv2): Conv2d(128, 128, kernel_size=(3, 3), stride=(1, 1), padding=(1, 1), bias=False)\n",
       "          (bn2): BatchNorm2d(128, eps=1e-05, momentum=0.1, affine=True, track_running_stats=True)\n",
       "          (downsample): Sequential(\n",
       "            (0): Conv2d(64, 128, kernel_size=(1, 1), stride=(2, 2), bias=False)\n",
       "            (1): BatchNorm2d(128, eps=1e-05, momentum=0.1, affine=True, track_running_stats=True)\n",
       "          )\n",
       "        )\n",
       "        (1): BasicBlock(\n",
       "          (conv1): Conv2d(128, 128, kernel_size=(3, 3), stride=(1, 1), padding=(1, 1), bias=False)\n",
       "          (bn1): BatchNorm2d(128, eps=1e-05, momentum=0.1, affine=True, track_running_stats=True)\n",
       "          (relu): ReLU(inplace=True)\n",
       "          (conv2): Conv2d(128, 128, kernel_size=(3, 3), stride=(1, 1), padding=(1, 1), bias=False)\n",
       "          (bn2): BatchNorm2d(128, eps=1e-05, momentum=0.1, affine=True, track_running_stats=True)\n",
       "        )\n",
       "      )\n",
       "      (6): Sequential(\n",
       "        (0): BasicBlock(\n",
       "          (conv1): Conv2d(128, 256, kernel_size=(3, 3), stride=(1, 1), padding=(1, 1), bias=False)\n",
       "          (bn1): BatchNorm2d(256, eps=1e-05, momentum=0.1, affine=True, track_running_stats=True)\n",
       "          (relu): ReLU(inplace=True)\n",
       "          (conv2): Conv2d(256, 256, kernel_size=(3, 3), stride=(1, 1), padding=(1, 1), bias=False)\n",
       "          (bn2): BatchNorm2d(256, eps=1e-05, momentum=0.1, affine=True, track_running_stats=True)\n",
       "          (downsample): Sequential(\n",
       "            (0): Conv2d(128, 256, kernel_size=(1, 1), stride=(1, 1), bias=False)\n",
       "            (1): BatchNorm2d(256, eps=1e-05, momentum=0.1, affine=True, track_running_stats=True)\n",
       "          )\n",
       "        )\n",
       "        (1): BasicBlock(\n",
       "          (conv1): Conv2d(256, 256, kernel_size=(3, 3), stride=(1, 1), padding=(1, 1), bias=False)\n",
       "          (bn1): BatchNorm2d(256, eps=1e-05, momentum=0.1, affine=True, track_running_stats=True)\n",
       "          (relu): ReLU(inplace=True)\n",
       "          (conv2): Conv2d(256, 256, kernel_size=(3, 3), stride=(1, 1), padding=(1, 1), bias=False)\n",
       "          (bn2): BatchNorm2d(256, eps=1e-05, momentum=0.1, affine=True, track_running_stats=True)\n",
       "        )\n",
       "      )\n",
       "    )\n",
       "  )\n",
       "  (additional_blocks): ModuleList(\n",
       "    (0): Sequential(\n",
       "      (0): Conv2d(256, 256, kernel_size=(1, 1), stride=(1, 1), bias=False)\n",
       "      (1): BatchNorm2d(256, eps=1e-05, momentum=0.1, affine=True, track_running_stats=True)\n",
       "      (2): ReLU(inplace=True)\n",
       "      (3): Conv2d(256, 512, kernel_size=(3, 3), stride=(2, 2), padding=(1, 1), bias=False)\n",
       "      (4): BatchNorm2d(512, eps=1e-05, momentum=0.1, affine=True, track_running_stats=True)\n",
       "      (5): ReLU(inplace=True)\n",
       "    )\n",
       "    (1): Sequential(\n",
       "      (0): Conv2d(512, 256, kernel_size=(1, 1), stride=(1, 1), bias=False)\n",
       "      (1): BatchNorm2d(256, eps=1e-05, momentum=0.1, affine=True, track_running_stats=True)\n",
       "      (2): ReLU(inplace=True)\n",
       "      (3): Conv2d(256, 512, kernel_size=(3, 3), stride=(2, 2), padding=(1, 1), bias=False)\n",
       "      (4): BatchNorm2d(512, eps=1e-05, momentum=0.1, affine=True, track_running_stats=True)\n",
       "      (5): ReLU(inplace=True)\n",
       "    )\n",
       "    (2): Sequential(\n",
       "      (0): Conv2d(512, 128, kernel_size=(1, 1), stride=(1, 1), bias=False)\n",
       "      (1): BatchNorm2d(128, eps=1e-05, momentum=0.1, affine=True, track_running_stats=True)\n",
       "      (2): ReLU(inplace=True)\n",
       "      (3): Conv2d(128, 256, kernel_size=(3, 3), stride=(2, 2), padding=(1, 1), bias=False)\n",
       "      (4): BatchNorm2d(256, eps=1e-05, momentum=0.1, affine=True, track_running_stats=True)\n",
       "      (5): ReLU(inplace=True)\n",
       "    )\n",
       "    (3): Sequential(\n",
       "      (0): Conv2d(256, 128, kernel_size=(1, 1), stride=(1, 1), bias=False)\n",
       "      (1): BatchNorm2d(128, eps=1e-05, momentum=0.1, affine=True, track_running_stats=True)\n",
       "      (2): ReLU(inplace=True)\n",
       "      (3): Conv2d(128, 256, kernel_size=(3, 3), stride=(1, 1), bias=False)\n",
       "      (4): BatchNorm2d(256, eps=1e-05, momentum=0.1, affine=True, track_running_stats=True)\n",
       "      (5): ReLU(inplace=True)\n",
       "    )\n",
       "    (4): Sequential(\n",
       "      (0): Conv2d(256, 128, kernel_size=(1, 1), stride=(1, 1), bias=False)\n",
       "      (1): BatchNorm2d(128, eps=1e-05, momentum=0.1, affine=True, track_running_stats=True)\n",
       "      (2): ReLU(inplace=True)\n",
       "      (3): Conv2d(128, 128, kernel_size=(3, 3), stride=(1, 1), bias=False)\n",
       "      (4): BatchNorm2d(128, eps=1e-05, momentum=0.1, affine=True, track_running_stats=True)\n",
       "      (5): ReLU(inplace=True)\n",
       "    )\n",
       "  )\n",
       "  (loc): ModuleList(\n",
       "    (0): Conv2d(256, 16, kernel_size=(3, 3), stride=(1, 1), padding=(1, 1))\n",
       "    (1): Conv2d(512, 16, kernel_size=(3, 3), stride=(1, 1), padding=(1, 1))\n",
       "    (2): Conv2d(512, 16, kernel_size=(3, 3), stride=(1, 1), padding=(1, 1))\n",
       "    (3): Conv2d(256, 16, kernel_size=(3, 3), stride=(1, 1), padding=(1, 1))\n",
       "    (4): Conv2d(256, 16, kernel_size=(3, 3), stride=(1, 1), padding=(1, 1))\n",
       "    (5): Conv2d(128, 16, kernel_size=(3, 3), stride=(1, 1), padding=(1, 1))\n",
       "  )\n",
       "  (conf): ModuleList(\n",
       "    (0): Conv2d(256, 8, kernel_size=(3, 3), stride=(1, 1), padding=(1, 1))\n",
       "    (1): Conv2d(512, 8, kernel_size=(3, 3), stride=(1, 1), padding=(1, 1))\n",
       "    (2): Conv2d(512, 8, kernel_size=(3, 3), stride=(1, 1), padding=(1, 1))\n",
       "    (3): Conv2d(256, 8, kernel_size=(3, 3), stride=(1, 1), padding=(1, 1))\n",
       "    (4): Conv2d(256, 8, kernel_size=(3, 3), stride=(1, 1), padding=(1, 1))\n",
       "    (5): Conv2d(128, 8, kernel_size=(3, 3), stride=(1, 1), padding=(1, 1))\n",
       "  )\n",
       ")"
      ]
     },
     "execution_count": 24,
     "metadata": {},
     "output_type": "execute_result"
    }
   ],
   "source": [
    "device = torch.device('cuda:0' if torch.cuda.is_available() else 'cpu')\n",
    "net.to(device)"
   ]
  },
  {
   "cell_type": "code",
   "execution_count": 25,
   "id": "mental-polish",
   "metadata": {},
   "outputs": [
    {
     "name": "stdout",
     "output_type": "stream",
     "text": [
      "----------------------------------------------------------------\n",
      "        Layer (type)               Output Shape         Param #\n",
      "================================================================\n",
      "            Conv2d-1         [-1, 64, 150, 150]           6,272\n",
      "       BatchNorm2d-2         [-1, 64, 150, 150]             128\n",
      "              ReLU-3         [-1, 64, 150, 150]               0\n",
      "         MaxPool2d-4           [-1, 64, 75, 75]               0\n",
      "            Conv2d-5           [-1, 64, 75, 75]          36,864\n",
      "       BatchNorm2d-6           [-1, 64, 75, 75]             128\n",
      "              ReLU-7           [-1, 64, 75, 75]               0\n",
      "            Conv2d-8           [-1, 64, 75, 75]          36,864\n",
      "       BatchNorm2d-9           [-1, 64, 75, 75]             128\n",
      "             ReLU-10           [-1, 64, 75, 75]               0\n",
      "       BasicBlock-11           [-1, 64, 75, 75]               0\n",
      "           Conv2d-12           [-1, 64, 75, 75]          36,864\n",
      "      BatchNorm2d-13           [-1, 64, 75, 75]             128\n",
      "             ReLU-14           [-1, 64, 75, 75]               0\n",
      "           Conv2d-15           [-1, 64, 75, 75]          36,864\n",
      "      BatchNorm2d-16           [-1, 64, 75, 75]             128\n",
      "             ReLU-17           [-1, 64, 75, 75]               0\n",
      "       BasicBlock-18           [-1, 64, 75, 75]               0\n",
      "           Conv2d-19          [-1, 128, 38, 38]          73,728\n",
      "      BatchNorm2d-20          [-1, 128, 38, 38]             256\n",
      "             ReLU-21          [-1, 128, 38, 38]               0\n",
      "           Conv2d-22          [-1, 128, 38, 38]         147,456\n",
      "      BatchNorm2d-23          [-1, 128, 38, 38]             256\n",
      "           Conv2d-24          [-1, 128, 38, 38]           8,192\n",
      "      BatchNorm2d-25          [-1, 128, 38, 38]             256\n",
      "             ReLU-26          [-1, 128, 38, 38]               0\n",
      "       BasicBlock-27          [-1, 128, 38, 38]               0\n",
      "           Conv2d-28          [-1, 128, 38, 38]         147,456\n",
      "      BatchNorm2d-29          [-1, 128, 38, 38]             256\n",
      "             ReLU-30          [-1, 128, 38, 38]               0\n",
      "           Conv2d-31          [-1, 128, 38, 38]         147,456\n",
      "      BatchNorm2d-32          [-1, 128, 38, 38]             256\n",
      "             ReLU-33          [-1, 128, 38, 38]               0\n",
      "       BasicBlock-34          [-1, 128, 38, 38]               0\n",
      "           Conv2d-35          [-1, 256, 38, 38]         294,912\n",
      "      BatchNorm2d-36          [-1, 256, 38, 38]             512\n",
      "             ReLU-37          [-1, 256, 38, 38]               0\n",
      "           Conv2d-38          [-1, 256, 38, 38]         589,824\n",
      "      BatchNorm2d-39          [-1, 256, 38, 38]             512\n",
      "           Conv2d-40          [-1, 256, 38, 38]          32,768\n",
      "      BatchNorm2d-41          [-1, 256, 38, 38]             512\n",
      "             ReLU-42          [-1, 256, 38, 38]               0\n",
      "       BasicBlock-43          [-1, 256, 38, 38]               0\n",
      "           Conv2d-44          [-1, 256, 38, 38]         589,824\n",
      "      BatchNorm2d-45          [-1, 256, 38, 38]             512\n",
      "             ReLU-46          [-1, 256, 38, 38]               0\n",
      "           Conv2d-47          [-1, 256, 38, 38]         589,824\n",
      "      BatchNorm2d-48          [-1, 256, 38, 38]             512\n",
      "             ReLU-49          [-1, 256, 38, 38]               0\n",
      "       BasicBlock-50          [-1, 256, 38, 38]               0\n",
      "           ResNet-51          [-1, 256, 38, 38]               0\n",
      "           Conv2d-52          [-1, 256, 38, 38]          65,536\n",
      "      BatchNorm2d-53          [-1, 256, 38, 38]             512\n",
      "             ReLU-54          [-1, 256, 38, 38]               0\n",
      "           Conv2d-55          [-1, 512, 19, 19]       1,179,648\n",
      "      BatchNorm2d-56          [-1, 512, 19, 19]           1,024\n",
      "             ReLU-57          [-1, 512, 19, 19]               0\n",
      "           Conv2d-58          [-1, 256, 19, 19]         131,072\n",
      "      BatchNorm2d-59          [-1, 256, 19, 19]             512\n",
      "             ReLU-60          [-1, 256, 19, 19]               0\n",
      "           Conv2d-61          [-1, 512, 10, 10]       1,179,648\n",
      "      BatchNorm2d-62          [-1, 512, 10, 10]           1,024\n",
      "             ReLU-63          [-1, 512, 10, 10]               0\n",
      "           Conv2d-64          [-1, 128, 10, 10]          65,536\n",
      "      BatchNorm2d-65          [-1, 128, 10, 10]             256\n",
      "             ReLU-66          [-1, 128, 10, 10]               0\n",
      "           Conv2d-67            [-1, 256, 5, 5]         294,912\n",
      "      BatchNorm2d-68            [-1, 256, 5, 5]             512\n",
      "             ReLU-69            [-1, 256, 5, 5]               0\n",
      "           Conv2d-70            [-1, 128, 5, 5]          32,768\n",
      "      BatchNorm2d-71            [-1, 128, 5, 5]             256\n",
      "             ReLU-72            [-1, 128, 5, 5]               0\n",
      "           Conv2d-73            [-1, 256, 3, 3]         294,912\n",
      "      BatchNorm2d-74            [-1, 256, 3, 3]             512\n",
      "             ReLU-75            [-1, 256, 3, 3]               0\n",
      "           Conv2d-76            [-1, 128, 3, 3]          32,768\n",
      "      BatchNorm2d-77            [-1, 128, 3, 3]             256\n",
      "             ReLU-78            [-1, 128, 3, 3]               0\n",
      "           Conv2d-79            [-1, 128, 1, 1]         147,456\n",
      "      BatchNorm2d-80            [-1, 128, 1, 1]             256\n",
      "             ReLU-81            [-1, 128, 1, 1]               0\n",
      "           Conv2d-82           [-1, 16, 38, 38]          36,880\n",
      "           Conv2d-83            [-1, 8, 38, 38]          18,440\n",
      "           Conv2d-84           [-1, 16, 19, 19]          73,744\n",
      "           Conv2d-85            [-1, 8, 19, 19]          36,872\n",
      "           Conv2d-86           [-1, 16, 10, 10]          73,744\n",
      "           Conv2d-87            [-1, 8, 10, 10]          36,872\n",
      "           Conv2d-88             [-1, 16, 5, 5]          36,880\n",
      "           Conv2d-89              [-1, 8, 5, 5]          18,440\n",
      "           Conv2d-90             [-1, 16, 3, 3]          36,880\n",
      "           Conv2d-91              [-1, 8, 3, 3]          18,440\n",
      "           Conv2d-92             [-1, 16, 1, 1]          18,448\n",
      "           Conv2d-93              [-1, 8, 1, 1]           9,224\n",
      "================================================================\n",
      "Total params: 6,623,888\n",
      "Trainable params: 6,623,888\n",
      "Non-trainable params: 0\n",
      "----------------------------------------------------------------\n",
      "Input size (MB): 0.69\n",
      "Forward/backward pass size (MB): 161.59\n",
      "Params size (MB): 25.27\n",
      "Estimated Total Size (MB): 187.55\n",
      "----------------------------------------------------------------\n"
     ]
    }
   ],
   "source": [
    "summary(net, (2, 300, 300))"
   ]
  },
  {
   "cell_type": "code",
   "execution_count": 26,
   "id": "american-compromise",
   "metadata": {},
   "outputs": [],
   "source": [
    "# def weights_init(m):\n",
    "#     if isinstance(m, nn.Conv2d):\n",
    "#         init.kaiming_normal_(m.weight.data)\n",
    "#         if m.bias is not None:\n",
    "#             nn.init.constant_(m.bias, 0.0)"
   ]
  },
  {
   "cell_type": "code",
   "execution_count": 27,
   "id": "peripheral-driving",
   "metadata": {},
   "outputs": [],
   "source": [
    "# net.vgg.apply(weights_init)\n",
    "# net.extras.apply(weights_init)\n",
    "# net.loc.apply(weights_init)\n",
    "# net.conf.apply(weights_init)"
   ]
  },
  {
   "cell_type": "code",
   "execution_count": 28,
   "id": "compatible-crystal",
   "metadata": {},
   "outputs": [],
   "source": [
    "# for i in net.parameters():\n",
    "#     print(i.requires_grad)"
   ]
  },
  {
   "cell_type": "code",
   "execution_count": 29,
   "id": "living-kingston",
   "metadata": {},
   "outputs": [
    {
     "data": {
      "text/plain": [
       "<function matplotlib.pyplot.show(close=None, block=None)>"
      ]
     },
     "execution_count": 29,
     "metadata": {},
     "output_type": "execute_result"
    },
    {
     "data": {
      "image/png": "[encoded data removed]",
      "text/plain": [
       "<Figure size 432x288 with 1 Axes>"
      ]
     },
     "metadata": {
      "needs_background": "light"
     },
     "output_type": "display_data"
    }
   ],
   "source": [
    "list_ = []\n",
    "for i in net.parameters():\n",
    "    i = i.to('cpu').detach().numpy().ravel()\n",
    "    list_.append(i)\n",
    "    pass\n",
    "\n",
    "list_ = np.concatenate(list_)\n",
    "plt.hist(list_, bins=np.linspace(-0.5, 0.5, 50))\n",
    "plt.show"
   ]
  },
  {
   "cell_type": "code",
   "execution_count": 30,
   "id": "wooden-stroke",
   "metadata": {},
   "outputs": [],
   "source": [
    "criterion = MultiBoxLoss(jaccard_thresh=0.5, neg_pos=2, device=device)\n",
    "# optimizer = optim.SGD(net.parameters(), lr=1e-3, momentum=0.9, weight_decay=5e-4)\n",
    "optimizer = optim.AdamW(net.parameters(), lr=0.001, betas=(0.9, 0.999), eps=1e-08, weight_decay=0.001, amsgrad=False)\n",
    "# optimizer = optim.RMSprop(net.parameters(), lr=0.01, alpha=0.99, eps=1e-08, weight_decay=0, momentum=0, centered=False)"
   ]
  },
  {
   "cell_type": "code",
   "execution_count": 31,
   "id": "ignored-toddler",
   "metadata": {},
   "outputs": [],
   "source": [
    "# ll , boxは一枚の画像に対する、正解と予想\n",
    "def calc_collision(ll, box):\n",
    "    if len(ll) == 0:\n",
    "        return None,  box[:,0]\n",
    "    else:\n",
    "        true_positive = []\n",
    "        for l in ll:\n",
    "            cx = (l[0]+l[2])/2\n",
    "            cy = (l[1]+l[3])/2\n",
    "\n",
    "            # np.logi~~で、どのボックスが正解の中心を含んでいるのかを出している。\n",
    "            true_positive.append(np.logical_and.reduce((box[:,1]<=cx, box[:,3]>=cx, box[:,2]<=cy, box[:,4]>=cy)))\n",
    "    \n",
    "        return np.stack(true_positive), box[:,0]#, ll[:,2]-ll[:,0]#, true_positive\n",
    "    \n"
   ]
  },
  {
   "cell_type": "code",
   "execution_count": 32,
   "id": "interesting-house",
   "metadata": {},
   "outputs": [],
   "source": [
    "def calc_f1score(val_seikai, val_bbbb):\n",
    "    collisions = [calc_collision(s,b) for s,b in zip(val_seikai, val_bbbb)]\n",
    "    thresholds = [ i/10000 for i in range(0, 10000, 1)]\n",
    "\n",
    "    f1_score = -10000\n",
    "\n",
    "    for th in thresholds:\n",
    "        TP1 = 0\n",
    "        TP2 = 0\n",
    "        TP1_FP = 0\n",
    "        TP2_FN = 0\n",
    "\n",
    "        for col,prob in collisions:\n",
    "            idx = prob > th\n",
    "            tp1_fp = idx.sum()\n",
    "            TP1_FP += tp1_fp\n",
    "\n",
    "            if col is not None:\n",
    "                tp1 = col[:,idx].any(axis=0) # for tp1\n",
    "                tp2 = col[:,idx].any(axis=1) # for tp2\n",
    "                tp2_fn = col.shape[0]\n",
    "                TP1 += np.sum(tp1)\n",
    "                TP2 += np.sum(tp2)\n",
    "                TP2_FN += tp2_fn \n",
    "\n",
    "        f1_score_ = 2*(TP1/TP1_FP)*(TP2/TP2_FN)/(TP1/TP1_FP+TP2/TP2_FN) \n",
    "\n",
    "        if f1_score_>f1_score:\n",
    "            f1_score = f1_score_\n",
    "\n",
    "    \n",
    "    return f1_score"
   ]
  },
  {
   "cell_type": "code",
   "execution_count": 33,
   "id": "driven-stewart",
   "metadata": {},
   "outputs": [],
   "source": [
    "# モデルを学習させる関数を作成\n",
    "\n",
    "\n",
    "def train_model(net, dataloaders_dict, criterion, optimizer, num_epochs, file_name):\n",
    "    loss_l_list_val = []\n",
    "    loss_c_list_val = []\n",
    "    loss_c_nega_list_val = []\n",
    "    loss_c_posi_list_val = []\n",
    "    \n",
    "    loss_l_list_train = []\n",
    "    loss_c_list_train = []\n",
    "    loss_c_nega_list_train = []\n",
    "    loss_c_posi_list_train = [] \n",
    "    \n",
    "    softmax = nn.Softmax(dim=-1)\n",
    "    tempo_val_loss = 100000000000000\n",
    "    # GPUが使えるかを確認\n",
    "    device = torch.device('cuda:0' if torch.cuda.is_available() else 'cpu')\n",
    "    print(\"使用デバイス：\", device)\n",
    "\n",
    "    # ネットワークをGPUへ\n",
    "    net.to(device)\n",
    "\n",
    "    # ネットワークがある程度固定であれば、高速化させる\n",
    "    torch.backends.cudnn.benchmark = True\n",
    "    early_stopping = EarlyStopping(patience=10, verbose=True, path='earlystopping.pth')\n",
    "    # イテレーションカウンタをセット\n",
    "    logs = []\n",
    "\n",
    "    # epochのループ\n",
    "    for epoch in range(num_epochs):\n",
    "        iteration = 0\n",
    "        val_iter = 0\n",
    "        epoch_train_loss = 0.0  # epochの損失和\n",
    "        epoch_val_loss = 0.0  # epochの損失和\n",
    " \n",
    "        \n",
    "        # 開始時刻を保存\n",
    "        t_epoch_start = time.time()\n",
    "        t_iter_start = time.time()\n",
    "\n",
    "        print('-------------')\n",
    "        print('Epoch {}/{}'.format(epoch+1, num_epochs))\n",
    "        print('-------------')\n",
    "        \n",
    "        train_bbbb = []\n",
    "        train_seikai = []\n",
    "        val_bbbb = []\n",
    "        val_seikai = []\n",
    "        loss_ll_val = 0\n",
    "        loss_cc_val = 0\n",
    "        loss_c_posii_val = 0\n",
    "        loss_c_negaa_val = 0\n",
    "        loss_ll_train = 0\n",
    "        loss_cc_train = 0\n",
    "        loss_c_posii_train = 0\n",
    "        loss_c_negaa_train = 0\n",
    "        \n",
    "        # epochごとの訓練と検証のループ\n",
    "        for phase in ['train', 'val']:\n",
    "            if phase == 'train':\n",
    "                net.train()  # モデルを訓練モードに\n",
    "                print('（train）')\n",
    "            else:\n",
    "                net.eval()\n",
    "    \n",
    "            for images, targets in dataloaders_dict[phase]:\n",
    "                if phase=='train':\n",
    "                    images = torch.from_numpy(np.random.uniform(0.5, 2.3, size=(images.shape[0],1,1,1))) * images\n",
    "\n",
    "                images = images.to(device, dtype=torch.float)\n",
    "                targets = [ann.to(device, dtype=torch.float) for ann in targets]  # リストの各要素のテンソルをGPUへ\n",
    "                # optimizerを初期化\n",
    "                optimizer.zero_grad()\n",
    "\n",
    "                # 順伝搬（forward）計算\n",
    "                with torch.set_grad_enabled(phase == 'train'):\n",
    "                    # 順伝搬（forward）計算\n",
    "                    outputs, decoded_box = net(images)\n",
    "\n",
    "                    conf = softmax(outputs[1])\n",
    "                    bbb = np.concatenate([conf[:, :, 1].to('cpu').detach().numpy()[:,:,None], \n",
    "                                             decoded_box.detach().numpy()], axis=2)\n",
    "\n",
    "\n",
    "                    # 損失の計算\n",
    "                    loss_l, loss_c, loss_c_posi, loss_c_nega = criterion(outputs, targets)\n",
    "                    loss = loss_l + loss_c\n",
    "#                     print('loss', loss)\n",
    "\n",
    "            \n",
    "#                     訓練時はバックプロパゲーション\n",
    "                    if phase == 'train':\n",
    "                        train_seikai.extend([ann.to('cpu').detach().numpy() for ann in targets])\n",
    "                        train_bbbb.append(bbb)\n",
    "                        loss_ll_train += loss_l.to('cpu').item()\n",
    "                        loss_cc_train += loss_c.to('cpu').item()\n",
    "                        loss_c_posii_train += loss_c_posi.to('cpu').item()\n",
    "                        loss_c_negaa_train += loss_c_nega.to('cpu').item()\n",
    "                        \n",
    "                        loss.backward()  # 勾配の計算\n",
    "                        nn.utils.clip_grad_value_(net.parameters(), clip_value=10.0)\n",
    "                        # 勾配が大きくなりすぎると計算が不安定になるので、clipで最大でも勾配2.0に留める\n",
    "\n",
    "                        optimizer.step()  # パラメータ更新\n",
    "                        epoch_train_loss += loss.item()\n",
    "                        print(\"\\r\"+str(iteration)+'/'+str(int(17000/batch_size))+'       ', end=\"\")\n",
    "                        iteration += 1\n",
    "\n",
    "                    # 検証時\n",
    "                    else:\n",
    "                        val_seikai.extend([ann.to('cpu').detach().numpy() for ann in targets])\n",
    "                        val_bbbb.append(bbb)\n",
    "#                         print(loss)\n",
    "                        loss_ll_val += loss_l.to('cpu').item()\n",
    "                        loss_cc_val += loss_c.to('cpu').item()\n",
    "                        loss_c_posii_val += loss_c_posi.to('cpu').item()\n",
    "                        loss_c_negaa_val += loss_c_nega.to('cpu').item()\n",
    "                        \n",
    "                        epoch_val_loss += loss.to('cpu').item()\n",
    "                        val_iter += 1  \n",
    "                        \n",
    "        avg_train_loss = epoch_train_loss / iteration\n",
    "        avg_val_loss = epoch_val_loss / val_iter\n",
    "    \n",
    "        print('\\nepoch {} || Epoch_TRAIN_Loss:{:.4f} ||Epoch_VAL_Loss:{:.4f} '.format(epoch+1,\n",
    "                                                                                  avg_train_loss,\n",
    "                                                                                  avg_val_loss))\n",
    "        # epochのphaseごとのlossと正解率\n",
    "        t_epoch_finish = time.time()\n",
    "        print('timer:  {:.4f} sec.'.format(t_epoch_finish - t_epoch_start))\n",
    "        print('avarage_loss_l:{:.4f} ||avarage_loss_c:{:.4f} ||avarage_loss_c_posi:{:.4f} \\\n",
    "||avarage_loss_c_nega:{:.4f}'.format(loss_ll_val/val_iter, \n",
    "                                                   loss_cc_val/val_iter,\n",
    "                                                   loss_c_posii_val/val_iter,\n",
    "                                                   loss_c_negaa_val/val_iter\n",
    "                                                  ))\n",
    "        \n",
    "        loss_c_list_val.append(loss_cc_val/val_iter)\n",
    "        loss_l_list_val.append(loss_ll_val/val_iter)\n",
    "        loss_c_posi_list_val.append(loss_c_posii_val/val_iter)\n",
    "        loss_c_nega_list_val.append(loss_c_negaa_val/val_iter)\n",
    "        \n",
    "        loss_c_list_train.append(loss_cc_train/iteration)\n",
    "        loss_l_list_train.append(loss_ll_train/iteration)\n",
    "        loss_c_posi_list_train.append(loss_c_posii_train/iteration)\n",
    "        loss_c_nega_list_train.append(loss_c_negaa_train/iteration)\n",
    "        \n",
    "        \n",
    "        t_epoch_start = time.time()\n",
    "\n",
    "        # ログを保存\n",
    "        log_epoch = {'epoch': epoch+1,\n",
    "                     'train_loss': avg_train_loss, 'val_loss': avg_val_loss}\n",
    "        logs.append(log_epoch)\n",
    "        df = pd.DataFrame(logs)\n",
    "        df.to_csv(\"log_output.csv\")\n",
    "        if epoch_val_loss < tempo_val_loss:\n",
    "            val_bbbb_ = np.concatenate(val_bbbb, axis=0)\n",
    "            val_seikai_ = val_seikai\n",
    "        tempo_val_loss = epoch_val_loss\n",
    "        \n",
    "        val_f1_score = calc_f1score(val_seikai, np.concatenate(val_bbbb, axis=0))\n",
    "        print('val_f1_score :{:.4f}'.format(val_f1_score))\n",
    "#         early_stopping(val_f1_score, net)\n",
    "        early_stopping(epoch_val_loss, net)\n",
    "    \n",
    "        if early_stopping.early_stop:\n",
    "            train_bbbb = np.concatenate(train_bbbb, axis=0)\n",
    "            print(train_bbbb.shape, val_bbbb_.shape)\n",
    "\n",
    "            print('Early_Stopping')\n",
    "            break\n",
    "            \n",
    "        epoch_train_loss = 0.0  # epochの損失和\n",
    "        epoch_val_loss = 0.0  # epochの損失和\n",
    "\n",
    "        # ネットワークを保存する\n",
    "        if ((epoch+1) % 10 == 0):\n",
    "            torch.save(net.state_dict(), 'ssd300_' +\n",
    "                       str(epoch+1) + '.pth')\n",
    "            \n",
    "    return train_bbbb, val_bbbb_, train_seikai, val_seikai_,\\\n",
    "loss_l_list_val, loss_c_list_val, loss_c_posi_list_val, loss_c_nega_list_val,\\\n",
    "loss_l_list_train, loss_c_list_train, loss_c_posi_list_train, loss_c_nega_list_train"
   ]
  },
  {
   "cell_type": "code",
   "execution_count": null,
   "id": "national-antigua",
   "metadata": {},
   "outputs": [
    {
     "name": "stdout",
     "output_type": "stream",
     "text": [
      "使用デバイス： cuda:0\n",
      "-------------\n",
      "Epoch 1/300\n",
      "-------------\n",
      "（train）\n",
      "999/1000       \n",
      "epoch 1 || Epoch_TRAIN_Loss:inf ||Epoch_VAL_Loss:4.9289 \n",
      "timer:  101.7618 sec.\n",
      "avarage_loss_l:2.1863 ||avarage_loss_c:2.7426 ||avarage_loss_c_posi:0.6880 ||avarage_loss_c_nega:1.3665\n"
     ]
    }
   ],
   "source": [
    "save_folder = '??'\n",
    "num_epoch = 300\n",
    "pd_frame = pd.DataFrame(columns=['iteration', 'phase', 'loss'])\n",
    "\n",
    "train_bbbb, val_bbbb, train_seikai, val_seikai,\\\n",
    "loss_l_list_val, loss_c_list_val, loss_c_posi_list_val, loss_c_nega_list_val,\\\n",
    "loss_l_list_train, loss_c_list_train, loss_c_posi_list_train, loss_c_nega_list_train\\\n",
    "= train_model(net, dataloaders_dict , criterion, optimizer,\n",
    "                        num_epochs=num_epoch, file_name=save_folder)"
   ]
  },
  {
   "cell_type": "code",
   "execution_count": 36,
   "id": "manual-terrace",
   "metadata": {},
   "outputs": [],
   "source": [
    "import pickle"
   ]
  },
  {
   "cell_type": "code",
   "execution_count": 37,
   "id": "extreme-static",
   "metadata": {},
   "outputs": [],
   "source": [
    "np.save('train_bbbb.npy', train_bbbb)\n",
    "np.save('val_bbbb.npy', val_bbbb)\n",
    "f = open('train_seikai.txt', 'wb')\n",
    "pickle.dump(train_seikai, f)\n",
    "f = open('val_seikai.txt', 'wb')\n",
    "pickle.dump(val_seikai, f)"
   ]
  },
  {
   "cell_type": "code",
   "execution_count": null,
   "id": "monthly-mountain",
   "metadata": {},
   "outputs": [],
   "source": []
  },
  {
   "cell_type": "code",
   "execution_count": 38,
   "id": "measured-champion",
   "metadata": {},
   "outputs": [
    {
     "data": {
      "text/plain": [
       "<matplotlib.legend.Legend at 0x7ef09084b880>"
      ]
     },
     "execution_count": 38,
     "metadata": {},
     "output_type": "execute_result"
    },
    {
     "data": {
      "image/png": "[encoded data removed]",
      "text/plain": [
       "<Figure size 432x288 with 1 Axes>"
      ]
     },
     "metadata": {
      "needs_background": "light"
     },
     "output_type": "display_data"
    }
   ],
   "source": [
    "fig = plt.figure()\n",
    "ax = fig.add_subplot(111)\n",
    "ax.plot(loss_l_list_train, label='loss_l_train')\n",
    "ax.plot(loss_c_list_train, label='loss_c_train')\n",
    "ax.plot(loss_l_list_val, label='loss_l_val')\n",
    "ax.plot(loss_c_list_val, label='loss_c_val')\n",
    "plt.legend()"
   ]
  },
  {
   "cell_type": "code",
   "execution_count": 39,
   "id": "entertaining-iceland",
   "metadata": {},
   "outputs": [
    {
     "data": {
      "text/plain": [
       "<matplotlib.legend.Legend at 0x7efd9c134f70>"
      ]
     },
     "execution_count": 39,
     "metadata": {},
     "output_type": "execute_result"
    },
    {
     "data": {
      "image/png": "[encoded data removed]",
      "text/plain": [
       "<Figure size 432x288 with 1 Axes>"
      ]
     },
     "metadata": {
      "needs_background": "light"
     },
     "output_type": "display_data"
    }
   ],
   "source": [
    "fig = plt.figure()\n",
    "ax = fig.add_subplot(111)\n",
    "ax.plot(loss_c_nega_list_train, label='loss_c_nega_train')\n",
    "ax.plot(loss_c_posi_list_train, label='loss_c_posi_train')\n",
    "ax.plot(loss_c_nega_list_val, label='loss_c_nega_val')\n",
    "ax.plot(loss_c_posi_list_val, label='loss_c_posi_val')\n",
    "plt.legend()"
   ]
  },
  {
   "cell_type": "code",
   "execution_count": null,
   "id": "continental-chain",
   "metadata": {},
   "outputs": [],
   "source": []
  },
  {
   "cell_type": "code",
   "execution_count": null,
   "id": "charitable-columbus",
   "metadata": {},
   "outputs": [],
   "source": []
  },
  {
   "cell_type": "code",
   "execution_count": null,
   "id": "described-bernard",
   "metadata": {},
   "outputs": [],
   "source": []
  },
  {
   "cell_type": "code",
   "execution_count": null,
   "id": "bronze-torture",
   "metadata": {},
   "outputs": [],
   "source": []
  },
  {
   "cell_type": "code",
   "execution_count": null,
   "id": "current-announcement",
   "metadata": {},
   "outputs": [],
   "source": []
  },
  {
   "cell_type": "code",
   "execution_count": null,
   "id": "charming-receipt",
   "metadata": {},
   "outputs": [],
   "source": []
  }
 ],
 "metadata": {
  "kernelspec": {
   "display_name": "Python 3",
   "language": "python",
   "name": "python3"
  },
  "language_info": {
   "codemirror_mode": {
    "name": "ipython",
    "version": 3
   },
   "file_extension": ".py",
   "mimetype": "text/x-python",
   "name": "python",
   "nbconvert_exporter": "python",
   "pygments_lexer": "ipython3",
   "version": "3.8.5"
  }
 },
 "nbformat": 4,
 "nbformat_minor": 5
}
