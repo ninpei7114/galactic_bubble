{
 "cells": [
  {
   "cell_type": "code",
   "execution_count": 1,
   "id": "ambient-needle",
   "metadata": {},
   "outputs": [],
   "source": [
    "import torch\n",
    "from torchsummary import summary\n",
    "\n",
    "import tqdm\n",
    "import copy\n",
    "import numpy as np\n",
    "import cv2\n",
    "import matplotlib.pyplot as plt\n",
    "import astropy.io.fits\n",
    "import time\n",
    "\n",
    "import scipy.ndimage\n",
    "from scipy import signal\n",
    "\n",
    "from torch.nn import functional as F"
   ]
  },
  {
   "cell_type": "code",
   "execution_count": 2,
   "id": "affected-cameroon",
   "metadata": {},
   "outputs": [],
   "source": [
    "import sys\n",
    "sys.path.append('../../')\n",
    "from utils.ssd_model import SSD\n",
    "from utils.ssd_model import DataTransform\n",
    "# from utils.ssd_model import MultiBoxLoss\n",
    "from utils.ssd_predict_show import SSDPredictShow"
   ]
  },
  {
   "cell_type": "code",
   "execution_count": 3,
   "id": "precise-animal",
   "metadata": {},
   "outputs": [],
   "source": [
    "torch.set_default_tensor_type('torch.cuda.FloatTensor')"
   ]
  },
  {
   "cell_type": "code",
   "execution_count": 4,
   "id": "finnish-remains",
   "metadata": {},
   "outputs": [],
   "source": [
    "cygnus_r = astropy.io.fits.open('../../../../Cygnus/cygnus_fits/M1_fits_file/M1_cygnus_2.4.fits')[0]\n",
    "cygnus_g = astropy.io.fits.open('../../../../Cygnus/cygnus_fits/I4_fits_file/I4_2.4_reg.fits')[0]"
   ]
  },
  {
   "cell_type": "code",
   "execution_count": 5,
   "id": "sublime-traffic",
   "metadata": {},
   "outputs": [
    {
     "data": {
      "text/plain": [
       "SIMPLE  =                    T /Standard FITS                                   \n",
       "BITPIX  =                  -32 /Floating point (32 bit)                         \n",
       "NAXIS   =                    2                                                  \n",
       "NAXIS1  =                10387                                                  \n",
       "NAXIS2  =                11051                                                  \n",
       "EXTEND  =                    T                                                  \n",
       "BSCALE  =   1.000000000000E+00 /PHYSICAL = PIXEL*BSCALE + BZERO                 \n",
       "BZERO   =   0.000000000000E+00                                                  \n",
       "BTYPE   = 'Intensity'                                                           \n",
       "OBJECT  = '        '                                                            \n",
       "BUNIT   = 'MJy/sr  '           /Brightness (pixel) unit                         \n",
       "EQUINOX =   2.000000000000E+03                                                  \n",
       "RADESYS = 'FK5     '                                                            \n",
       "LONPOLE =   1.800000000000E+02                                                  \n",
       "LATPOLE =   4.050000000000E+01                                                  \n",
       "PC1_1   =   1.000000000000E+00                                                  \n",
       "PC2_1   =  -0.000000000000E+00                                                  \n",
       "PC1_2   =   0.000000000000E+00                                                  \n",
       "PC2_2   =   1.000000000000E+00                                                  \n",
       "CTYPE1  = 'RA---TAN'                                                            \n",
       "CRVAL1  =   3.080000000000E+02                                                  \n",
       "CDELT1  =  -6.666660000000E-04                                                  \n",
       "CRPIX1  =   4.740000000000E+03                                                  \n",
       "CUNIT1  = 'deg     '                                                            \n",
       "CTYPE2  = 'DEC--TAN'                                                            \n",
       "CRVAL2  =   4.050000000000E+01                                                  \n",
       "CDELT2  =   6.666660000000E-04                                                  \n",
       "CRPIX2  =   6.250000000000E+03                                                  \n",
       "CUNIT2  = 'deg     '                                                            \n",
       "TELESCOP= 'Spitzer '                                                            \n",
       "IRAF-TLM= '2011-04-29T19:46:02'                                                 \n",
       "CREATOR = 'S18.5.0 '                                                            \n",
       "INSTRUME= 'IRAC    '                                                            \n",
       "CHNLNUM =                    4                                                  \n",
       "EXPTYPE = 'sci     '                                                            \n",
       "REQTYPE = 'AOR     '                                                            \n",
       "AOT_TYPE= 'IracMap '                                                            \n",
       "OBSRVR  = 'Joseph Hora'                                                         \n",
       "OBSRVRID=                   53                                                  \n",
       "PROCYCL =                    7                                                  \n",
       "PROGID  =                40184                                                  \n",
       "PROTITLE= 'A Spitzer Legacy Survey of the Cygnus-X Complex'                     \n",
       "PROGCAT =                   27                                                  \n",
       "FLUXCONV=   2.021000000000E-01                                                  \n",
       "GAIN    =   3.800000000000E+00                                                  \n",
       "RONOISE =   6.700000000000E+00                                                  \n",
       "READMODE= 'FULL    '                                                            \n",
       "COLSTEP =   3.000000000000E+02                                                  \n",
       "ROWSTEP =   1.000000000000E+02                                                  \n",
       "COLOFF  =   0.000000000000E+00                                                  \n",
       "ROWOFF  =   0.000000000000E+00                                                  \n",
       "MAPCOORD= 'Array   '                                                            \n",
       "DATE    = '2021-05-06T07:03:17.947000' /Date FITS file was written              \n",
       "TIMESYS = 'UTC     '           /Time system for HDU                             \n",
       "ORIGIN  = 'CASA 6.1.2-7 CASAtools:v1.0.0'                                       \n",
       "HISTORY CASA START LOGTABLE                                                     \n",
       "HISTORY 2021-05-06T06:58:02 INFO SRCCODE='::importfits'                         \n",
       "HISTORY version: 6.1.2-7 CASAtools:v1.0.0                                       \n",
       "HISTORY 2021-05-06T06:58:02 INFO SRCCODE='::importfits'                         \n",
       "HISTORY importfits(fitsimage=\"I4_fits_file/I4_cygnus_2.4.fits\", imagename=\"I4.im\n",
       "HISTORY >age\", whichrep=0, whichhdu=-1, zeroblanks=True, overwrite=False, defaul\n",
       "HISTORY >axes=False, defaultaxesvalues=[], beam=[])                             \n",
       "HISTORY 2021-05-06T07:00:34 INFO SRCCODE='::imregrid'                           \n",
       "HISTORY version: 6.1.2-7 CASAtools:v1.0.0                                       \n",
       "HISTORY 2021-05-06T07:00:34 INFO SRCCODE='::imregrid'                           \n",
       "HISTORY imregrid(imagename=\"I4.image\", template=\"M1.image\", output=\"i4_reg.image\n",
       "HISTORY >\", asvelocity=True, axes=[-1], shape=[10387 11051], interpolation=\"line\n",
       "HISTORY >r\", decimate=10, replicate=False, overwrite=True)                      \n",
       "HISTORY CASA END LOGTABLE                                                       "
      ]
     },
     "execution_count": 5,
     "metadata": {},
     "output_type": "execute_result"
    }
   ],
   "source": [
    "cygnus_g.header"
   ]
  },
  {
   "cell_type": "code",
   "execution_count": 6,
   "id": "acceptable-bottom",
   "metadata": {},
   "outputs": [
    {
     "data": {
      "text/plain": [
       "0.013574093895664954"
      ]
     },
     "execution_count": 6,
     "metadata": {},
     "output_type": "execute_result"
    }
   ],
   "source": [
    "deg_to_pc = 1400*np.sin(np.deg2rad(1))\n",
    "2/3600*deg_to_pc"
   ]
  },
  {
   "cell_type": "code",
   "execution_count": 7,
   "id": "sacred-throat",
   "metadata": {},
   "outputs": [
    {
     "data": {
      "text/plain": [
       "((11051, 10387), (11051, 10387))"
      ]
     },
     "execution_count": 7,
     "metadata": {},
     "output_type": "execute_result"
    }
   ],
   "source": [
    "cygnus_r.data.shape, cygnus_g.data.shape"
   ]
  },
  {
   "cell_type": "code",
   "execution_count": 8,
   "id": "skilled-national",
   "metadata": {},
   "outputs": [],
   "source": [
    "def remove_nan(data1):\n",
    "    # fits???????????????max?????\n",
    "    mask1_10 = (data1==data1)\n",
    "    mask1_1010 = np.where(mask1_10, 0, 1)\n",
    "    label1, name1 = scipy.ndimage.label(mask1_1010)\n",
    "    data_areas1 = scipy.ndimage.sum(mask1_1010, label1, np.arange(name1+1))\n",
    "    minsize1 = 1000\n",
    "    data_mask1_10 =  (data_areas1 < minsize1)&(0 < data_areas1)\n",
    "    small_mask1_10 = data_mask1_10[label1.ravel()].reshape(label1.shape)\n",
    "    data1[small_mask1_10] = np.nanmax(data1)\n",
    "\n",
    "    return data1"
   ]
  },
  {
   "cell_type": "code",
   "execution_count": 9,
   "id": "demanding-alarm",
   "metadata": {},
   "outputs": [],
   "source": [
    "# data_ = np.concatenate([cygnus_r.data[:,:,None], cygnus_g.data[:,:,None]], axis=2)"
   ]
  },
  {
   "cell_type": "code",
   "execution_count": 10,
   "id": "hollywood-arbitration",
   "metadata": {},
   "outputs": [],
   "source": [
    "# データのnanを無くす\n",
    "data_ = np.concatenate([remove_nan(cygnus_r.data[:,:,None]), remove_nan(cygnus_g.data[:,:,None])], axis=2)\n",
    "# data_[data_ != data_] = 0"
   ]
  },
  {
   "cell_type": "code",
   "execution_count": 11,
   "id": "vocational-bulgarian",
   "metadata": {},
   "outputs": [
    {
     "data": {
      "text/plain": [
       "nan"
      ]
     },
     "execution_count": 11,
     "metadata": {},
     "output_type": "execute_result"
    }
   ],
   "source": [
    "np.max(data_)"
   ]
  },
  {
   "cell_type": "code",
   "execution_count": 12,
   "id": "human-harris",
   "metadata": {},
   "outputs": [],
   "source": [
    "def norm_median(data):\n",
    "    min_ = np.min(data)\n",
    "    data -= min_\n",
    "    med = np.median(data)\n",
    "    data /= med*2\n",
    "    data = np.clip(data, None, 15)\n",
    "    return data"
   ]
  },
  {
   "cell_type": "code",
   "execution_count": 13,
   "id": "color-murray",
   "metadata": {},
   "outputs": [],
   "source": [
    "def normalize(array):\n",
    "    \"\"\"\n",
    "    入力：（y, x, 2 or 3）\n",
    "    出力：（y ,x, 2 or 3）\n",
    "    \"\"\"\n",
    "    gauss_list = []\n",
    "    s = array.shape[2]\n",
    "    for k in range(s):\n",
    "        cut_data_k = array[:,:,k]\n",
    "        cut_data_k = norm_median(cut_data_k)\n",
    "        gauss_list.append(cut_data_k[:,:,None])                           \n",
    "\n",
    "    cut_data = np.concatenate(gauss_list, axis=2)\n",
    "    return cut_data"
   ]
  },
  {
   "cell_type": "code",
   "execution_count": 14,
   "id": "destroyed-repeat",
   "metadata": {},
   "outputs": [],
   "source": [
    "def resize(data, size):\n",
    "    cut_data = np.swapaxes(data, 1, 2)\n",
    "    cut_data = np.swapaxes(cut_data, 0, 1)\n",
    "    cut_data = torch.from_numpy(cut_data)\n",
    "    cut_data = cut_data.unsqueeze(0)\n",
    "    resize_data = F.interpolate(cut_data, (size, size), mode='bilinear', align_corners=False)\n",
    "    resize_data = resize_data.permute(0, 2, 3, 1)\n",
    "    resize_data = np.squeeze(resize_data.detach().numpy())\n",
    "    \n",
    "    return resize_data"
   ]
  },
  {
   "cell_type": "code",
   "execution_count": 15,
   "id": "prospective-quality",
   "metadata": {},
   "outputs": [],
   "source": [
    "def conv(obj_size, obj_sig, data, cut_shape):\n",
    "    \"\"\"\n",
    "    入力：（y ,x, 2 or 3）\n",
    "    出力：（size ,size, 2 or 3）\n",
    "    -------------------------------\n",
    "    切り出したデータがobj_sizeより大きければ、smoothingをする\n",
    "    小さければ、そのまま返す。\n",
    "    \"\"\"\n",
    "    if cut_shape>obj_size:\n",
    "        fwhm = (data.shape[0]/obj_size)*2\n",
    "        sig3 = fwhm/(2*(2*np.log(2))**(1/2))\n",
    "        sig2 = (sig3**2-obj_sig**2)**(1/2)\n",
    "\n",
    "        kernel = np.outer(signal.gaussian(8*round(sig2)+1, sig2), signal.gaussian(8*round(sig2)+1, sig2))\n",
    "        kernel1= kernel/np.sum(kernel)\n",
    "\n",
    "        conv_list = []\n",
    "        for k in range(data.shape[2]):\n",
    "            cut_data_k = data[:,:,k]\n",
    "            lurred_k = signal.fftconvolve(cut_data_k, kernel1, mode='same') \n",
    "            conv_list.append(lurred_k[:,:,None])                           \n",
    "\n",
    "        pi = np.concatenate(conv_list, axis=2)\n",
    "    else:\n",
    "        pi = data\n",
    "    return pi"
   ]
  },
  {
   "cell_type": "code",
   "execution_count": 16,
   "id": "eligible-month",
   "metadata": {},
   "outputs": [],
   "source": [
    "def cut_data(data_, many_ind, cut_shape):\n",
    "    data_list = []\n",
    "    position_list_ = []\n",
    "    for i in many_ind:\n",
    "        x_min = i[1]-cut_shape/5\n",
    "        x_max = i[1]+cut_shape+cut_shape/5\n",
    "        y_min = i[0]-cut_shape/5\n",
    "        y_max = i[0]+cut_shape+cut_shape/5\n",
    "        data_c = data_[int(y_min):int(y_max), int(x_min):int(x_max)].view()\n",
    "        if np.max(data_c) == np.max(data_c):\n",
    "            d = copy.deepcopy(data_c)\n",
    "            d = conv(300, sig1, d, cut_shape)\n",
    "            d = d[int(cut_shape/5):int(cut_shape*6/5), int(cut_shape/5):int(cut_shape*6/5)]\n",
    "            \n",
    "            flag = True\n",
    "            for dim in range(d.shape[2]):\n",
    "                non_zero_count = np.count_nonzero(d[:,:,dim])\n",
    "                if non_zero_count>=d.shape[0]*d.shape[1]*3/4:\n",
    "                    pass\n",
    "                else:\n",
    "                    flag = False\n",
    "            if flag:\n",
    "                d = normalize(d)\n",
    "                d = resize(d, 300)\n",
    "                data_list.append(d)\n",
    "                position_list_.append([int(y_min)+int(cut_shape/5), int(x_min)+int(cut_shape/5)])\n",
    "        else:\n",
    "            pass\n",
    "    \n",
    "    return data_list, position_list_"
   ]
  },
  {
   "cell_type": "code",
   "execution_count": 17,
   "id": "emerging-process",
   "metadata": {},
   "outputs": [],
   "source": [
    "sig1 = 1/(2*(np.log(2))**(1/2))"
   ]
  },
  {
   "cell_type": "code",
   "execution_count": 18,
   "id": "intensive-belief",
   "metadata": {},
   "outputs": [
    {
     "data": {
      "text/plain": [
       "<matplotlib.image.AxesImage at 0x7f77a451eca0>"
      ]
     },
     "execution_count": 18,
     "metadata": {},
     "output_type": "execute_result"
    },
    {
     "data": {
      "image/png": "[encoded data removed]",
      "text/plain": [
       "<Figure size 432x288 with 1 Axes>"
      ]
     },
     "metadata": {
      "needs_background": "light"
     },
     "output_type": "display_data"
    }
   ],
   "source": [
    "plt.imshow(data_[:,:,1], vmin=-1, vmax=255)"
   ]
  },
  {
   "cell_type": "code",
   "execution_count": 19,
   "id": "overhead-border",
   "metadata": {},
   "outputs": [],
   "source": [
    "input_size = 300\n",
    "color_mean = (0, 0)\n",
    "classes = ['ring']\n",
    "\n",
    "ssd_cfg = {\n",
    "    'num_classes': 2,  # 背景クラスを含めた合計クラス数\n",
    "    'input_size': input_size,  # 画像の入力サイズ\n",
    "    'bbox_aspect_num': [4, 6, 6, 6, 4, 4],  # 出力するDBoxのアスペクト比の種類\n",
    "#     'bbox_aspect_num': [4, 4, 4, 4, 4, 4],\n",
    "    'feature_maps': [38, 19, 10, 5, 3, 1],  # 各sourceの画像サイズ   \n",
    "#     'feature_maps': [38, 19, 10, 5, 3, 1],  # 各sourceの画像サイズ\n",
    "    'steps': [8, 16, 32, 64, 100, 300],  # DBOXの大きさを決める\n",
    "    'min_sizes': [30, 60, 111, 162, 213, 264],  # DBOXの大きさを決める\n",
    "    'max_sizes': [60, 111, 162, 213, 264, 315],  # DBOXの大きさを決める\n",
    "    'aspect_ratios': [[2], [2, 3], [2, 3], [2, 3], [2], [2]],\n",
    "#     'aspect_ratios': [[2], [2], [2], [2], [2], [2]],\n",
    "}"
   ]
  },
  {
   "cell_type": "code",
   "execution_count": 20,
   "id": "worse-blues",
   "metadata": {},
   "outputs": [
    {
     "data": {
      "text/plain": [
       "<All keys matched successfully>"
      ]
     },
     "execution_count": 20,
     "metadata": {},
     "output_type": "execute_result"
    }
   ],
   "source": [
    "net_w = SSD(phase='inference', cfg=ssd_cfg)\n",
    "net_weights = torch.load('earlystopping.pth')\n",
    "net_w.load_state_dict(net_weights)"
   ]
  },
  {
   "cell_type": "code",
   "execution_count": 21,
   "id": "welsh-broadcasting",
   "metadata": {},
   "outputs": [
    {
     "data": {
      "text/plain": [
       "SSD(\n",
       "  (vgg): ModuleList(\n",
       "    (0): Conv2d(2, 64, kernel_size=(3, 3), stride=(1, 1), padding=(1, 1))\n",
       "    (1): ReLU(inplace=True)\n",
       "    (2): Sequential(\n",
       "      (0): BatchNorm2d(64, eps=1e-05, momentum=0.1, affine=True, track_running_stats=True)\n",
       "      (1): Conv2d(64, 64, kernel_size=(3, 3), stride=(1, 1), padding=(1, 1))\n",
       "    )\n",
       "    (3): ReLU(inplace=True)\n",
       "    (4): MaxPool2d(kernel_size=2, stride=2, padding=0, dilation=1, ceil_mode=False)\n",
       "    (5): Conv2d(64, 128, kernel_size=(3, 3), stride=(1, 1), padding=(1, 1))\n",
       "    (6): ReLU(inplace=True)\n",
       "    (7): Conv2d(128, 128, kernel_size=(3, 3), stride=(1, 1), padding=(1, 1))\n",
       "    (8): ReLU(inplace=True)\n",
       "    (9): MaxPool2d(kernel_size=2, stride=2, padding=0, dilation=1, ceil_mode=False)\n",
       "    (10): Conv2d(128, 256, kernel_size=(3, 3), stride=(1, 1), padding=(1, 1))\n",
       "    (11): ReLU(inplace=True)\n",
       "    (12): Conv2d(256, 256, kernel_size=(3, 3), stride=(1, 1), padding=(1, 1))\n",
       "    (13): ReLU(inplace=True)\n",
       "    (14): Conv2d(256, 256, kernel_size=(3, 3), stride=(1, 1), padding=(1, 1))\n",
       "    (15): ReLU(inplace=True)\n",
       "    (16): MaxPool2d(kernel_size=2, stride=2, padding=0, dilation=1, ceil_mode=True)\n",
       "    (17): Conv2d(256, 512, kernel_size=(3, 3), stride=(1, 1), padding=(1, 1))\n",
       "    (18): ReLU(inplace=True)\n",
       "    (19): Conv2d(512, 512, kernel_size=(3, 3), stride=(1, 1), padding=(1, 1))\n",
       "    (20): ReLU(inplace=True)\n",
       "    (21): Conv2d(512, 512, kernel_size=(3, 3), stride=(1, 1), padding=(1, 1))\n",
       "    (22): ReLU(inplace=True)\n",
       "    (23): MaxPool2d(kernel_size=2, stride=2, padding=0, dilation=1, ceil_mode=False)\n",
       "    (24): Conv2d(512, 512, kernel_size=(3, 3), stride=(1, 1), padding=(1, 1))\n",
       "    (25): ReLU(inplace=True)\n",
       "    (26): Conv2d(512, 512, kernel_size=(3, 3), stride=(1, 1), padding=(1, 1))\n",
       "    (27): ReLU(inplace=True)\n",
       "    (28): Conv2d(512, 512, kernel_size=(3, 3), stride=(1, 1), padding=(1, 1))\n",
       "    (29): ReLU(inplace=True)\n",
       "    (30): MaxPool2d(kernel_size=3, stride=1, padding=1, dilation=1, ceil_mode=False)\n",
       "    (31): Conv2d(512, 1024, kernel_size=(3, 3), stride=(1, 1), padding=(6, 6), dilation=(6, 6))\n",
       "    (32): ReLU(inplace=True)\n",
       "    (33): Conv2d(1024, 1024, kernel_size=(1, 1), stride=(1, 1))\n",
       "    (34): ReLU(inplace=True)\n",
       "  )\n",
       "  (extras): ModuleList(\n",
       "    (0): Conv2d(1024, 256, kernel_size=(1, 1), stride=(1, 1))\n",
       "    (1): Conv2d(256, 512, kernel_size=(3, 3), stride=(2, 2), padding=(1, 1))\n",
       "    (2): Conv2d(512, 128, kernel_size=(1, 1), stride=(1, 1))\n",
       "    (3): Conv2d(128, 256, kernel_size=(3, 3), stride=(2, 2), padding=(1, 1))\n",
       "    (4): Conv2d(256, 128, kernel_size=(1, 1), stride=(1, 1))\n",
       "    (5): Conv2d(128, 256, kernel_size=(3, 3), stride=(1, 1))\n",
       "    (6): Conv2d(256, 128, kernel_size=(1, 1), stride=(1, 1))\n",
       "    (7): Conv2d(128, 256, kernel_size=(3, 3), stride=(1, 1))\n",
       "  )\n",
       "  (L2Norm): L2Norm()\n",
       "  (loc): ModuleList(\n",
       "    (0): Conv2d(512, 16, kernel_size=(3, 3), stride=(1, 1), padding=(1, 1))\n",
       "    (1): Conv2d(1024, 24, kernel_size=(3, 3), stride=(1, 1), padding=(1, 1))\n",
       "    (2): Conv2d(512, 24, kernel_size=(3, 3), stride=(1, 1), padding=(1, 1))\n",
       "    (3): Conv2d(256, 24, kernel_size=(3, 3), stride=(1, 1), padding=(1, 1))\n",
       "    (4): Conv2d(256, 16, kernel_size=(3, 3), stride=(1, 1), padding=(1, 1))\n",
       "    (5): Conv2d(256, 16, kernel_size=(1, 1), stride=(1, 1))\n",
       "  )\n",
       "  (conf): ModuleList(\n",
       "    (0): Conv2d(512, 8, kernel_size=(3, 3), stride=(1, 1), padding=(1, 1))\n",
       "    (1): Conv2d(1024, 12, kernel_size=(3, 3), stride=(1, 1), padding=(1, 1))\n",
       "    (2): Conv2d(512, 12, kernel_size=(3, 3), stride=(1, 1), padding=(1, 1))\n",
       "    (3): Conv2d(256, 12, kernel_size=(3, 3), stride=(1, 1), padding=(1, 1))\n",
       "    (4): Conv2d(256, 8, kernel_size=(3, 3), stride=(1, 1), padding=(1, 1))\n",
       "    (5): Conv2d(256, 8, kernel_size=(1, 1), stride=(1, 1))\n",
       "  )\n",
       ")"
      ]
     },
     "execution_count": 21,
     "metadata": {},
     "output_type": "execute_result"
    }
   ],
   "source": [
    "torch.backends.cudnn.benchmark = True\n",
    "device = torch.device(torch.device(\"cuda:0\") if torch.cuda.is_available() else 'cpu')\n",
    "net_w.to(device)"
   ]
  },
  {
   "cell_type": "markdown",
   "id": "attended-clinton",
   "metadata": {},
   "source": [
    "#### 切り出すインデックスを計算"
   ]
  },
  {
   "cell_type": "code",
   "execution_count": 22,
   "id": "reasonable-compression",
   "metadata": {},
   "outputs": [
    {
     "data": {
      "text/plain": [
       "(9, 9)"
      ]
     },
     "execution_count": 22,
     "metadata": {},
     "output_type": "execute_result"
    }
   ],
   "source": [
    "size_list = [150, 300, 600, 900, 1200, 1800, 2000, 2500, 3000]\n",
    "# batch_lsit = [1500, 600, 500, 100, 60, 60, 20, 4, 4]\n",
    "batch_lsit = [10000, 5000, 4000, 800, 500, 500, 300, 50, 50]\n",
    "len(size_list), len(batch_lsit)"
   ]
  },
  {
   "cell_type": "code",
   "execution_count": 23,
   "id": "oriental-reflection",
   "metadata": {},
   "outputs": [
    {
     "name": "stderr",
     "output_type": "stream",
     "text": [
      "  0%|          | 0/9999 [00:00<?, ?it/s]"
     ]
    },
    {
     "name": "stdout",
     "output_type": "stream",
     "text": [
      "150\n",
      "(38, 38)\n",
      "272 289\n"
     ]
    },
    {
     "name": "stderr",
     "output_type": "stream",
     "text": [
      "100%|██████████| 9999/9999 [09:25<00:00, 17.69it/s] \n",
      "100%|██████████| 5360/5360 [01:44<00:00, 51.15it/s] \n",
      "  4%|▍         | 224/4999 [00:00<00:02, 2232.99it/s]"
     ]
    },
    {
     "name": "stdout",
     "output_type": "stream",
     "text": [
      "150\n",
      "300\n",
      "(75, 75)\n",
      "137 146\n"
     ]
    },
    {
     "name": "stderr",
     "output_type": "stream",
     "text": [
      "100%|██████████| 4999/4999 [02:39<00:00, 31.33it/s] \n",
      "100%|██████████| 2498/2498 [00:09<00:00, 252.87it/s]\n",
      "  5%|▍         | 193/3999 [00:00<00:01, 1926.75it/s]"
     ]
    },
    {
     "name": "stdout",
     "output_type": "stream",
     "text": [
      "300\n",
      "600\n",
      "(150, 150)\n",
      "68 72\n"
     ]
    },
    {
     "name": "stderr",
     "output_type": "stream",
     "text": [
      "100%|██████████| 3999/3999 [02:00<00:00, 33.19it/s] \n",
      "100%|██████████| 1683/1683 [00:00<00:00, 1770.21it/s]\n",
      "  4%|▍         | 32/799 [00:00<00:02, 314.62it/s]"
     ]
    },
    {
     "name": "stdout",
     "output_type": "stream",
     "text": [
      "600\n",
      "900\n",
      "(225, 225)\n",
      "45 48\n"
     ]
    },
    {
     "name": "stderr",
     "output_type": "stream",
     "text": [
      "100%|██████████| 799/799 [01:26<00:00,  9.28it/s] \n",
      "100%|██████████| 308/308 [00:00<00:00, 14787.95it/s]\n",
      "  3%|▎         | 16/499 [00:00<00:03, 151.44it/s]"
     ]
    },
    {
     "name": "stdout",
     "output_type": "stream",
     "text": [
      "900\n",
      "1200\n",
      "(300, 300)\n",
      "33 35\n"
     ]
    },
    {
     "name": "stderr",
     "output_type": "stream",
     "text": [
      "100%|██████████| 499/499 [01:18<00:00,  6.35it/s]\n",
      "100%|██████████| 168/168 [00:00<00:00, 25359.64it/s]\n",
      "  3%|▎         | 16/499 [00:00<00:03, 152.40it/s]"
     ]
    },
    {
     "name": "stdout",
     "output_type": "stream",
     "text": [
      "1200\n",
      "1800\n",
      "(450, 450)\n",
      "22 23\n"
     ]
    },
    {
     "name": "stderr",
     "output_type": "stream",
     "text": [
      "100%|██████████| 499/499 [00:50<00:00,  9.80it/s] \n",
      "100%|██████████| 102/102 [00:00<00:00, 54360.74it/s]\n",
      "  3%|▎         | 10/299 [00:00<00:03, 94.21it/s]"
     ]
    },
    {
     "name": "stdout",
     "output_type": "stream",
     "text": [
      "1800\n",
      "2000\n",
      "(500, 500)\n",
      "19 21\n"
     ]
    },
    {
     "name": "stderr",
     "output_type": "stream",
     "text": [
      "100%|██████████| 299/299 [00:43<00:00,  6.81it/s]\n",
      "100%|██████████| 54/54 [00:00<00:00, 32425.54it/s]\n",
      "  4%|▍         | 2/49 [00:00<00:02, 17.92it/s]"
     ]
    },
    {
     "name": "stdout",
     "output_type": "stream",
     "text": [
      "2000\n",
      "2500\n",
      "(625, 625)\n",
      "15 16\n"
     ]
    },
    {
     "name": "stderr",
     "output_type": "stream",
     "text": [
      "100%|██████████| 49/49 [00:34<00:00,  1.43it/s]\n",
      "100%|██████████| 10/10 [00:00<00:00, 13021.74it/s]\n",
      "  4%|▍         | 2/49 [00:00<00:02, 19.18it/s]"
     ]
    },
    {
     "name": "stdout",
     "output_type": "stream",
     "text": [
      "2500\n",
      "3000\n",
      "(750, 750)\n",
      "12 13\n"
     ]
    },
    {
     "name": "stderr",
     "output_type": "stream",
     "text": [
      "100%|██████████| 49/49 [00:18<00:00,  2.62it/s]\n",
      "100%|██████████| 4/4 [00:00<00:00, 6314.35it/s]"
     ]
    },
    {
     "name": "stdout",
     "output_type": "stream",
     "text": [
      "3000\n",
      "1273.7087817192078\n"
     ]
    },
    {
     "name": "stderr",
     "output_type": "stream",
     "text": [
      "\n"
     ]
    }
   ],
   "source": [
    "star = time.time()\n",
    "for kk in range(len(size_list)):\n",
    "    size = size_list[kk]\n",
    "    bb = batch_lsit[kk]\n",
    "    ################### indexの計算 ###################\n",
    "    cut_shape = (size, size)\n",
    "    fragment = 4\n",
    "    slide_pix = (int(round(cut_shape[0]/fragment)), int(round(cut_shape[1]/fragment)))\n",
    "    print(size)\n",
    "    print(slide_pix)\n",
    "    \n",
    "    shape = data_.shape\n",
    "    x_num = int(shape[1]/slide_pix[1])-1\n",
    "    y_num = int(shape[0]/slide_pix[0])-1\n",
    "    print(x_num, y_num)\n",
    "\n",
    "    x_idx = np.arange(cut_shape[1]/5, slide_pix[1]*x_num, slide_pix[1])\n",
    "    y_idx = np.arange(cut_shape[0]/5, slide_pix[0]*y_num, slide_pix[0])\n",
    "    x_ind, y_ind = np.meshgrid(x_idx, y_idx)\n",
    "    \n",
    "    l = []\n",
    "    for x, y in zip(x_ind.ravel(), y_ind.ravel()):\n",
    "        l.append([y, x])\n",
    "    ind = np.array(l)\n",
    "    ################### indexの計算 ###################\n",
    "    \n",
    "    ################### infer ###################\n",
    "    result = []\n",
    "    position = []\n",
    "    batch = np.linspace(0, ind.shape[0], bb)\n",
    "    for i in tqdm.tqdm(range(len(batch)-1)):\n",
    "        #indを等分して、データを切り取り、推論する\n",
    "        cut_ind = ind[int(batch[i]):int(batch[i+1])]\n",
    "        \n",
    "#         position.append(cut_ind)\n",
    "        data_list, p_list = cut_data(data_, cut_ind, cut_shape[0])\n",
    "        \n",
    "        if len(data_list) == 0:\n",
    "            pass\n",
    "        else:\n",
    "            p_data = np.array(data_list)\n",
    "            p_data = p_data.astype(np.float32)\n",
    "            p_data = torch.from_numpy(p_data)\n",
    "#             print(p_data.shape)\n",
    "            pp_data = p_data.permute(0 ,3, 1, 2)\n",
    "\n",
    "            with torch.no_grad():\n",
    "                net_w.eval()\n",
    "                pp_data = pp_data.to(device)\n",
    "                detections = net_w(pp_data)\n",
    "                result.append(detections.to('cpu').detach().numpy().copy())\n",
    "                position.append(p_list)\n",
    "                \n",
    "#     print(result)\n",
    "    aaaa = result[0]\n",
    "    for i in tqdm.tqdm(range(1, len(result))):\n",
    "        aaaa = np.concatenate([aaaa, result[i]])\n",
    "        \n",
    "    positions = position[0]\n",
    "    for i in range(1, len(position)):\n",
    "        positions = np.concatenate([positions, position[i]])\n",
    "        \n",
    "     ################### infer ###################\n",
    "    \n",
    "    print(cut_shape[0])\n",
    "#     np.save('result_10/result_ring_select_csize%s.npy'%cut_shape[0], aaaa)\n",
    "#     np.save('result_10/position_ring_select_csize%s.npy'%cut_shape[0], positions)\n",
    "print(time.time()-star)"
   ]
  },
  {
   "cell_type": "code",
   "execution_count": 25,
   "id": "conventional-change",
   "metadata": {},
   "outputs": [
    {
     "data": {
      "text/plain": [
       "21.22847969532013"
      ]
     },
     "execution_count": 25,
     "metadata": {},
     "output_type": "execute_result"
    }
   ],
   "source": [
    "1273.7087817192078/60"
   ]
  },
  {
   "cell_type": "code",
   "execution_count": null,
   "id": "sublime-politics",
   "metadata": {},
   "outputs": [],
   "source": []
  },
  {
   "cell_type": "code",
   "execution_count": null,
   "id": "temporal-shelter",
   "metadata": {},
   "outputs": [],
   "source": []
  },
  {
   "cell_type": "code",
   "execution_count": null,
   "id": "ultimate-decision",
   "metadata": {},
   "outputs": [],
   "source": []
  },
  {
   "cell_type": "code",
   "execution_count": null,
   "id": "outstanding-angle",
   "metadata": {},
   "outputs": [],
   "source": []
  },
  {
   "cell_type": "code",
   "execution_count": null,
   "id": "pleasant-handling",
   "metadata": {},
   "outputs": [],
   "source": []
  },
  {
   "cell_type": "code",
   "execution_count": null,
   "id": "liquid-helicopter",
   "metadata": {},
   "outputs": [],
   "source": []
  },
  {
   "cell_type": "code",
   "execution_count": null,
   "id": "judicial-cursor",
   "metadata": {},
   "outputs": [],
   "source": []
  }
 ],
 "metadata": {
  "kernelspec": {
   "display_name": "Python 3",
   "language": "python",
   "name": "python3"
  },
  "language_info": {
   "codemirror_mode": {
    "name": "ipython",
    "version": 3
   },
   "file_extension": ".py",
   "mimetype": "text/x-python",
   "name": "python",
   "nbconvert_exporter": "python",
   "pygments_lexer": "ipython3",
   "version": "3.8.5"
  }
 },
 "nbformat": 4,
 "nbformat_minor": 5
}
