{
 "cells": [
  {
   "cell_type": "markdown",
   "metadata": {},
   "source": [
    "### モデルを作成する"
   ]
  },
  {
   "cell_type": "code",
   "execution_count": 1,
   "metadata": {},
   "outputs": [
    {
     "ename": "ModuleNotFoundError",
     "evalue": "No module named 'torch'",
     "output_type": "error",
     "traceback": [
      "\u001b[0;31m---------------------------------------------------------------------------\u001b[0m",
      "\u001b[0;31mModuleNotFoundError\u001b[0m                       Traceback (most recent call last)",
      "\u001b[0;32m<ipython-input-1-27dbcf430d7b>\u001b[0m in \u001b[0;36m<module>\u001b[0;34m\u001b[0m\n\u001b[0;32m----> 1\u001b[0;31m \u001b[0;32mimport\u001b[0m \u001b[0mtorch\u001b[0m\u001b[0;34m\u001b[0m\u001b[0;34m\u001b[0m\u001b[0m\n\u001b[0m\u001b[1;32m      2\u001b[0m \u001b[0;32mimport\u001b[0m \u001b[0mtorch\u001b[0m\u001b[0;34m.\u001b[0m\u001b[0mnn\u001b[0m \u001b[0;32mas\u001b[0m \u001b[0mnn\u001b[0m\u001b[0;34m\u001b[0m\u001b[0;34m\u001b[0m\u001b[0m\n\u001b[1;32m      3\u001b[0m \u001b[0;32mimport\u001b[0m \u001b[0mtorch\u001b[0m\u001b[0;34m.\u001b[0m\u001b[0mnn\u001b[0m\u001b[0;34m.\u001b[0m\u001b[0mfunctional\u001b[0m \u001b[0;32mas\u001b[0m \u001b[0mF\u001b[0m\u001b[0;34m\u001b[0m\u001b[0;34m\u001b[0m\u001b[0m\n\u001b[1;32m      4\u001b[0m \u001b[0;32mfrom\u001b[0m \u001b[0mtorchsummary\u001b[0m \u001b[0;32mimport\u001b[0m \u001b[0msummary\u001b[0m\u001b[0;34m\u001b[0m\u001b[0;34m\u001b[0m\u001b[0m\n\u001b[1;32m      5\u001b[0m \u001b[0;32mimport\u001b[0m \u001b[0mtorch\u001b[0m\u001b[0;34m.\u001b[0m\u001b[0mutils\u001b[0m\u001b[0;34m.\u001b[0m\u001b[0mdata\u001b[0m \u001b[0;32mas\u001b[0m \u001b[0mdata\u001b[0m\u001b[0;34m\u001b[0m\u001b[0;34m\u001b[0m\u001b[0m\n",
      "\u001b[0;31mModuleNotFoundError\u001b[0m: No module named 'torch'"
     ]
    }
   ],
   "source": [
    "import torch\n",
    "import torch.nn as nn\n",
    "import torch.nn.functional as F\n",
    "from torchsummary import summary\n",
    "import torch.utils.data as data\n",
    "import torch.optim as optim\n",
    "\n",
    "import cv2\n",
    "import numpy as np\n",
    "import time\n",
    "import ast\n",
    "import random\n",
    "import matplotlib.pyplot as plt\n",
    "import pandas as pd"
   ]
  },
  {
   "cell_type": "code",
   "execution_count": 2,
   "metadata": {},
   "outputs": [],
   "source": [
    "from utils.ssd_model import SSD\n",
    "from utils.ssd_model import MultiBoxLoss"
   ]
  },
  {
   "cell_type": "code",
   "execution_count": 4,
   "metadata": {},
   "outputs": [],
   "source": [
    "input_size = 300\n",
    "color_mean = (0, 0)\n",
    "voc_classes = ['ring']"
   ]
  },
  {
   "cell_type": "code",
   "execution_count": 5,
   "metadata": {},
   "outputs": [],
   "source": [
    "ssd_cfg = {\n",
    "    'num_classes': 2,  # 背景クラスを含めた合計クラス数\n",
    "    'input_size': input_size,  # 画像の入力サイズ\n",
    "    'bbox_aspect_num': [4, 4, 4, 4, 4, 4],  # 出力するDBoxのアスペクト比の種類\n",
    "#      'bbox_aspect_num': [4, 6, 6, 6, 4, 4]\n",
    "    'feature_maps': [38, 19, 10, 5, 3, 1],  # 各sourceの画像サイズ   \n",
    "#     'feature_maps': [38, 19, 10, 5, 3, 1],  # 各sourceの画像サイズ\n",
    "    'steps': [8, 16, 32, 64, 100, 300],  # DBOXの大きさを決める\n",
    "    'min_sizes': [30, 60, 111, 162, 213, 264],  # DBOXの大きさを決める\n",
    "    'max_sizes': [60, 111, 162, 213, 264, 315],  # DBOXの大きさを決める\n",
    "    'aspect_ratios': [[2], [2], [2], [2], [2], [2]],\n",
    "#     'aspect_ratios': [[2], [2, 3], [2, 3], [2, 3], [2], [2]],\n",
    "}"
   ]
  },
  {
   "cell_type": "code",
   "execution_count": 23,
   "metadata": {},
   "outputs": [],
   "source": [
    "device = torch.device('cuda:0' if torch.cuda.is_available() else 'cpu')\n",
    "# device = torch.device('cpu')"
   ]
  },
  {
   "cell_type": "code",
   "execution_count": 24,
   "metadata": {},
   "outputs": [],
   "source": [
    "net = SSD(phase='train', cfg=ssd_cfg)"
   ]
  },
  {
   "cell_type": "code",
   "execution_count": 27,
   "metadata": {},
   "outputs": [
    {
     "name": "stdout",
     "output_type": "stream",
     "text": [
      "----------------------------------------------------------------\n",
      "        Layer (type)               Output Shape         Param #\n",
      "================================================================\n",
      "            Conv2d-1          [-1, 8, 300, 300]             152\n",
      "              ReLU-2          [-1, 8, 300, 300]               0\n",
      "         MaxPool2d-3          [-1, 8, 100, 100]               0\n",
      "            Conv2d-4         [-1, 16, 100, 100]           1,168\n",
      "              ReLU-5         [-1, 16, 100, 100]               0\n",
      "         MaxPool2d-6           [-1, 16, 50, 50]               0\n",
      "            Conv2d-7           [-1, 32, 46, 46]          12,832\n",
      "              ReLU-8           [-1, 32, 46, 46]               0\n",
      "            Conv2d-9           [-1, 32, 42, 42]          25,632\n",
      "             ReLU-10           [-1, 32, 42, 42]               0\n",
      "           Conv2d-11           [-1, 32, 38, 38]          25,632\n",
      "             ReLU-12           [-1, 32, 38, 38]               0\n",
      "           L2Norm-13           [-1, 32, 38, 38]              32\n",
      "        MaxPool2d-14           [-1, 32, 19, 19]               0\n",
      "           Conv2d-15           [-1, 32, 19, 19]           9,248\n",
      "             ReLU-16           [-1, 32, 19, 19]               0\n",
      "           Conv2d-17           [-1, 32, 19, 19]           9,248\n",
      "             ReLU-18           [-1, 32, 19, 19]               0\n",
      "           Conv2d-19          [-1, 256, 19, 19]           8,448\n",
      "           Conv2d-20           [-1, 64, 10, 10]         147,520\n",
      "           Conv2d-21           [-1, 64, 10, 10]           4,160\n",
      "           Conv2d-22             [-1, 32, 5, 5]          18,464\n",
      "           Conv2d-23             [-1, 64, 5, 5]           2,112\n",
      "           Conv2d-24             [-1, 32, 3, 3]          18,464\n",
      "           Conv2d-25             [-1, 32, 3, 3]           1,056\n",
      "           Conv2d-26             [-1, 32, 1, 1]           9,248\n",
      "           Conv2d-27           [-1, 16, 38, 38]           4,624\n",
      "           Conv2d-28            [-1, 8, 38, 38]           2,312\n",
      "           Conv2d-29           [-1, 16, 19, 19]           4,624\n",
      "           Conv2d-30            [-1, 8, 19, 19]           2,312\n",
      "           Conv2d-31           [-1, 16, 10, 10]           9,232\n",
      "           Conv2d-32            [-1, 8, 10, 10]           4,616\n",
      "           Conv2d-33             [-1, 16, 5, 5]           4,624\n",
      "           Conv2d-34              [-1, 8, 5, 5]           2,312\n",
      "           Conv2d-35             [-1, 16, 3, 3]           4,624\n",
      "           Conv2d-36              [-1, 8, 3, 3]           2,312\n",
      "           Conv2d-37             [-1, 16, 1, 1]             528\n",
      "           Conv2d-38              [-1, 8, 1, 1]             264\n",
      "================================================================\n",
      "Total params: 335,800\n",
      "Trainable params: 335,800\n",
      "Non-trainable params: 0\n",
      "----------------------------------------------------------------\n",
      "Input size (MB): 0.69\n",
      "Forward/backward pass size (MB): 18.92\n",
      "Params size (MB): 1.28\n",
      "Estimated Total Size (MB): 20.88\n",
      "----------------------------------------------------------------\n"
     ]
    }
   ],
   "source": [
    "net.to(device)\n",
    "summary(net, (2, 300, 300))"
   ]
  },
  {
   "cell_type": "code",
   "execution_count": null,
   "metadata": {},
   "outputs": [],
   "source": []
  },
  {
   "cell_type": "code",
   "execution_count": null,
   "metadata": {},
   "outputs": [],
   "source": []
  },
  {
   "cell_type": "code",
   "execution_count": null,
   "metadata": {},
   "outputs": [],
   "source": []
  },
  {
   "cell_type": "code",
   "execution_count": null,
   "metadata": {},
   "outputs": [],
   "source": []
  },
  {
   "cell_type": "code",
   "execution_count": null,
   "metadata": {},
   "outputs": [],
   "source": []
  },
  {
   "cell_type": "code",
   "execution_count": null,
   "metadata": {},
   "outputs": [],
   "source": []
  },
  {
   "cell_type": "code",
   "execution_count": null,
   "metadata": {},
   "outputs": [],
   "source": []
  },
  {
   "cell_type": "code",
   "execution_count": null,
   "metadata": {},
   "outputs": [],
   "source": []
  },
  {
   "cell_type": "code",
   "execution_count": null,
   "metadata": {},
   "outputs": [],
   "source": []
  },
  {
   "cell_type": "code",
   "execution_count": null,
   "metadata": {},
   "outputs": [],
   "source": []
  },
  {
   "cell_type": "code",
   "execution_count": null,
   "metadata": {},
   "outputs": [],
   "source": []
  },
  {
   "cell_type": "code",
   "execution_count": null,
   "metadata": {},
   "outputs": [],
   "source": []
  }
 ],
 "metadata": {
  "kernelspec": {
   "display_name": "Python 3",
   "language": "python",
   "name": "python3"
  },
  "language_info": {
   "codemirror_mode": {
    "name": "ipython",
    "version": 3
   },
   "file_extension": ".py",
   "mimetype": "text/x-python",
   "name": "python",
   "nbconvert_exporter": "python",
   "pygments_lexer": "ipython3",
   "version": "3.8.3"
  }
 },
 "nbformat": 4,
 "nbformat_minor": 5
}
